{
  "cells": [
    {
      "cell_type": "code",
      "execution_count": null,
      "metadata": {
        "colab": {
          "base_uri": "https://localhost:8080/"
        },
        "id": "MMsjhTFohfFB",
        "outputId": "51cbaaf7-e144-4ca8-b814-5187abf5ce16"
      },
      "outputs": [
        {
          "output_type": "stream",
          "name": "stdout",
          "text": [
            "Drive already mounted at /content/drive; to attempt to forcibly remount, call drive.mount(\"/content/drive\", force_remount=True).\n"
          ]
        }
      ],
      "source": [
        "from google.colab import drive\n",
        "drive.mount('/content/drive')"
      ]
    },
    {
      "cell_type": "code",
      "execution_count": null,
      "metadata": {
        "colab": {
          "base_uri": "https://localhost:8080/"
        },
        "id": "fVgLuOWkXRr3",
        "outputId": "50cb56c9-d61f-4c70-b674-694f571b9c22"
      },
      "outputs": [
        {
          "output_type": "stream",
          "name": "stdout",
          "text": [
            "Collecting torch-geometric\n",
            "  Downloading torch_geometric-2.5.3-py3-none-any.whl (1.1 MB)\n",
            "\u001b[2K     \u001b[90m━━━━━━━━━━━━━━━━━━━━━━━━━━━━━━━━━━━━━━━━\u001b[0m \u001b[32m1.1/1.1 MB\u001b[0m \u001b[31m4.8 MB/s\u001b[0m eta \u001b[36m0:00:00\u001b[0m\n",
            "\u001b[?25hRequirement already satisfied: tqdm in /usr/local/lib/python3.10/dist-packages (from torch-geometric) (4.66.4)\n",
            "Requirement already satisfied: numpy in /usr/local/lib/python3.10/dist-packages (from torch-geometric) (1.25.2)\n",
            "Requirement already satisfied: scipy in /usr/local/lib/python3.10/dist-packages (from torch-geometric) (1.11.4)\n",
            "Requirement already satisfied: fsspec in /usr/local/lib/python3.10/dist-packages (from torch-geometric) (2023.6.0)\n",
            "Requirement already satisfied: jinja2 in /usr/local/lib/python3.10/dist-packages (from torch-geometric) (3.1.4)\n",
            "Requirement already satisfied: aiohttp in /usr/local/lib/python3.10/dist-packages (from torch-geometric) (3.9.5)\n",
            "Requirement already satisfied: requests in /usr/local/lib/python3.10/dist-packages (from torch-geometric) (2.31.0)\n",
            "Requirement already satisfied: pyparsing in /usr/local/lib/python3.10/dist-packages (from torch-geometric) (3.1.2)\n",
            "Requirement already satisfied: scikit-learn in /usr/local/lib/python3.10/dist-packages (from torch-geometric) (1.2.2)\n",
            "Requirement already satisfied: psutil>=5.8.0 in /usr/local/lib/python3.10/dist-packages (from torch-geometric) (5.9.5)\n",
            "Requirement already satisfied: aiosignal>=1.1.2 in /usr/local/lib/python3.10/dist-packages (from aiohttp->torch-geometric) (1.3.1)\n",
            "Requirement already satisfied: attrs>=17.3.0 in /usr/local/lib/python3.10/dist-packages (from aiohttp->torch-geometric) (23.2.0)\n",
            "Requirement already satisfied: frozenlist>=1.1.1 in /usr/local/lib/python3.10/dist-packages (from aiohttp->torch-geometric) (1.4.1)\n",
            "Requirement already satisfied: multidict<7.0,>=4.5 in /usr/local/lib/python3.10/dist-packages (from aiohttp->torch-geometric) (6.0.5)\n",
            "Requirement already satisfied: yarl<2.0,>=1.0 in /usr/local/lib/python3.10/dist-packages (from aiohttp->torch-geometric) (1.9.4)\n",
            "Requirement already satisfied: async-timeout<5.0,>=4.0 in /usr/local/lib/python3.10/dist-packages (from aiohttp->torch-geometric) (4.0.3)\n",
            "Requirement already satisfied: MarkupSafe>=2.0 in /usr/local/lib/python3.10/dist-packages (from jinja2->torch-geometric) (2.1.5)\n",
            "Requirement already satisfied: charset-normalizer<4,>=2 in /usr/local/lib/python3.10/dist-packages (from requests->torch-geometric) (3.3.2)\n",
            "Requirement already satisfied: idna<4,>=2.5 in /usr/local/lib/python3.10/dist-packages (from requests->torch-geometric) (3.7)\n",
            "Requirement already satisfied: urllib3<3,>=1.21.1 in /usr/local/lib/python3.10/dist-packages (from requests->torch-geometric) (2.0.7)\n",
            "Requirement already satisfied: certifi>=2017.4.17 in /usr/local/lib/python3.10/dist-packages (from requests->torch-geometric) (2024.2.2)\n",
            "Requirement already satisfied: joblib>=1.1.1 in /usr/local/lib/python3.10/dist-packages (from scikit-learn->torch-geometric) (1.4.2)\n",
            "Requirement already satisfied: threadpoolctl>=2.0.0 in /usr/local/lib/python3.10/dist-packages (from scikit-learn->torch-geometric) (3.5.0)\n",
            "Installing collected packages: torch-geometric\n",
            "Successfully installed torch-geometric-2.5.3\n"
          ]
        }
      ],
      "source": [
        "!pip install torch-geometric\n"
      ]
    },
    {
      "cell_type": "code",
      "execution_count": null,
      "metadata": {
        "id": "xAHi3C0tXUa0"
      },
      "outputs": [],
      "source": [
        "!pip install torch torchvision"
      ]
    },
    {
      "cell_type": "markdown",
      "source": [
        "**Signal to Visibility Graph Creation Algorithms**"
      ],
      "metadata": {
        "id": "-DCuWQmo9XhB"
      }
    },
    {
      "cell_type": "code",
      "execution_count": null,
      "metadata": {
        "id": "FTTOFijEhrqM"
      },
      "outputs": [],
      "source": [
        "import numpy as np\n",
        "import networkx as nx\n",
        "import pandas as pd\n",
        "import torch\n",
        "import h5py\n",
        "import os"
      ]
    },
    {
      "cell_type": "code",
      "execution_count": null,
      "metadata": {
        "id": "oK2ECfxekALF"
      },
      "outputs": [],
      "source": [
        "def normalise(d):\n",
        "    m=sum(d)/len(d)\n",
        "    for i in range(len(d)):\n",
        "        d[i]=(d[i]-m)\n",
        "    Max=d[0]\n",
        "    for i in d:\n",
        "        if abs(i)>Max:\n",
        "            Max=abs(i)\n",
        "    for i in range(len(d)):\n",
        "        d[i]=d[i]/Max\n",
        "\n",
        "    return d"
      ]
    },
    {
      "cell_type": "code",
      "execution_count": null,
      "metadata": {
        "id": "wG2pQByqkHoP"
      },
      "outputs": [],
      "source": [
        "\n",
        "def HVG(TS):\n",
        "\n",
        "    G=nx.Graph()\n",
        "    G.add_node(0)\n",
        "    for i in range(len(TS)-1):\n",
        "        G.add_node(i+1)\n",
        "        G.add_edge(i,i+1)\n",
        "    for i in range(len(TS)-2):\n",
        "        M=TS[i+1]\n",
        "        for j in range(i+2,len(TS)):\n",
        "            if M>TS[i]:\n",
        "                break\n",
        "            if TS[i]>M and TS[j]>M:\n",
        "                G.add_edge(i,j)\n",
        "                M=TS[j]\n",
        "    return G"
      ]
    },
    {
      "cell_type": "code",
      "execution_count": null,
      "metadata": {
        "id": "Sb2MFx9ukcww"
      },
      "outputs": [],
      "source": [
        "\n",
        "def Alpha(signal,dist):\n",
        "    idx=[i for i in range(len(signal))]\n",
        "    cross_idx=[0]\n",
        "    for i in range(len(signal)-1):\n",
        "        l=cross_idx[-1]\n",
        "        if signal[i]*signal[i+1]<0:\n",
        "            if signal[i]>signal[i+1] and i-l>dist:\n",
        "                cross_idx.append(i)\n",
        "            elif signal[i+1]>signal[i] and i+1-l>dist:\n",
        "                cross_idx.append(i+1)\n",
        "    last_idx_of_signal=len(signal)-1\n",
        "    if last_idx_of_signal not in cross_idx:\n",
        "        cross_idx.append(last_idx_of_signal)\n",
        "    alphas=[]\n",
        "    for i in range(len(cross_idx)-1):\n",
        "        I=[j for j in range(cross_idx[i],cross_idx[i+1]+1)]\n",
        "        M1=abs(signal[I[0]])\n",
        "        M=signal[I[0]]\n",
        "        for k in I:\n",
        "            if abs(signal[k])>M1:\n",
        "                M1=abs(signal[k])\n",
        "                M=signal[k]\n",
        "        alpha=(abs(signal[cross_idx[i]]-M)+abs(signal[cross_idx[i+1]]-M))/(cross_idx[i+1]-cross_idx[i])\n",
        "        for _ in range(cross_idx[i+1]-cross_idx[i]):\n",
        "            alphas.append(round(alpha,3))\n",
        "    return alphas\n",
        "\n",
        "\n",
        "def Average_alpha(signal,A,B):\n",
        "    d1=Alpha(signal,A)\n",
        "    d2=Alpha(signal,B)\n",
        "    d=[]\n",
        "    dif=[]\n",
        "    for i in range(len(signal)-1):\n",
        "        d.append((d1[i]+d2[i])/2)\n",
        "    return d"
      ]
    },
    {
      "cell_type": "code",
      "execution_count": null,
      "metadata": {
        "id": "FP0FJEHnkNGH"
      },
      "outputs": [],
      "source": [
        "def NERHVG(TS):\n",
        "    TS=normalise(TS)\n",
        "    Avg_alpha=Average_alpha(TS,10,25)\n",
        "    G=nx.Graph()\n",
        "    G.add_node(0)\n",
        "    for i in range(len(TS)-1):\n",
        "        G.add_node(i+1)\n",
        "        if abs(TS[i]-TS[i+1])<Avg_alpha[i]:\n",
        "            G.add_edge(i,i+1)\n",
        "    for i in range(len(TS)-2):\n",
        "        M=TS[i+1]\n",
        "        for j in range(i+2,len(TS)):\n",
        "            if M>=TS[i]:\n",
        "                break\n",
        "            if TS[i]>M and TS[j]>M:\n",
        "                G.add_edge(i,j)\n",
        "                M=TS[j]\n",
        "\n",
        "    return G"
      ]
    },
    {
      "cell_type": "code",
      "execution_count": null,
      "metadata": {
        "id": "hCTiSjILMBPb"
      },
      "outputs": [],
      "source": [
        "def nodeFeatures(G): #Node features: [degree of node, local CC of node]\n",
        "    features = {} #dictionary for key value pairs for (node v: [degree of v, local_clustering_coeff_of_v] )\n",
        "\n",
        "    for n in G.nodes():\n",
        "        neighbors = [x for x in G[n]]\n",
        "        num_neighbors = len(neighbors) #or degree\n",
        "\n",
        "        if num_neighbors <= 1:\n",
        "           features[n] = [num_neighbors, 0.0]\n",
        "        else:\n",
        "            num_connected_pairs = 0\n",
        "            for i in range(num_neighbors):\n",
        "                for j in range(i + 1, num_neighbors):\n",
        "                    if G.has_edge(neighbors[i], neighbors[j]):\n",
        "                        num_connected_pairs += 1\n",
        "            CC=2 * num_connected_pairs / (num_neighbors * (num_neighbors - 1))\n",
        "            features[n] = [num_neighbors, round(CC,2)]\n",
        "\n",
        "    return torch.tensor(list(features.values()))\n",
        "\n",
        "# for a 3X3 graph the output of this function is like,\n",
        "# Nodefeatures:\n",
        "#   tensor([[1.0000, 0.0000],\n",
        "#         [3.0000, 0.3330],\n",
        "#         [2.0000, 1.0000],\n",
        "#         [2.0000, 1.0000]])\n"
      ]
    },
    {
      "cell_type": "markdown",
      "source": [
        "**Training Graph Dataset Creation**"
      ],
      "metadata": {
        "id": "KcjSEjFp8Rqd"
      }
    },
    {
      "cell_type": "code",
      "execution_count": null,
      "metadata": {
        "id": "TNu-37IZkga_"
      },
      "outputs": [],
      "source": [
        "\n",
        "D=pd.read_csv(r\"/content/drive/MyDrive/PPG_Dataset/vii_Normalized_Nonoverlapped_clean_data_3seconds_from3174samples.csv\")\n",
        "\n"
      ]
    },
    {
      "cell_type": "code",
      "execution_count": null,
      "metadata": {
        "id": "S0c9-iN3bCnv"
      },
      "outputs": [],
      "source": [
        "#sampling some integers on the length of the PPG signal file to get all kind of signal from few number of signals\n",
        "import random\n",
        "import pickle\n",
        "Range = list(range(10001, len(D)))\n",
        "\n",
        "sample_idx= random.sample(Range, 15000)\n",
        "sample_idx.sort()\n",
        "#print(\"Sampled integers:\", sample_idx)\n",
        "with open('/content/drive/MyDrive/PPG_Dataset/Data_Sampling_index/sample_idx7', 'wb') as f: #Saving Dataset\n",
        "    pickle.dump(sample_idx, f)\n"
      ]
    },
    {
      "cell_type": "code",
      "execution_count": null,
      "metadata": {
        "colab": {
          "base_uri": "https://localhost:8080/"
        },
        "id": "nqwuQ7z7TUhF",
        "outputId": "8b96f6a7-da0d-4184-9504-7ab317d1ad64"
      },
      "outputs": [
        {
          "output_type": "stream",
          "name": "stderr",
          "text": [
            "<ipython-input-17-5b07ba5e8fff>:13: UserWarning: To copy construct from a tensor, it is recommended to use sourceTensor.clone().detach() or sourceTensor.clone().detach().requires_grad_(True), rather than torch.tensor(sourceTensor).\n",
            "  edge_index= torch.tensor(edges, dtype=torch.long)\n"
          ]
        }
      ],
      "source": [
        "import pickle\n",
        "import torch\n",
        "import random\n",
        "from torch_geometric.data import Data, DataLoader\n",
        "\n",
        "Dataset=[]\n",
        "for i in sample_idx:\n",
        "  g=HVG(normalise(D.iloc[i,:]))\n",
        "  A=nx.adjacency_matrix(g)\n",
        "  edges = torch.nonzero(torch.tensor(A.toarray()), as_tuple=False).t()\n",
        "  edge_index= torch.tensor(edges, dtype=torch.long)\n",
        "  edge_index = edge_index.contiguous()\n",
        "  label=torch.tensor([0], dtype=torch.float32)\n",
        "  x1=nodeFeatures(g)\n",
        "  Dataset.append(Data(x=x1, edge_index=edge_index, y=label))\n",
        "\n",
        "with open('/content/drive/MyDrive/HVG_Training/HVG_Dataset7.pkl', 'wb') as f: #Saving Dataset\n",
        "    pickle.dump(Dataset, f)\n"
      ]
    },
    {
      "cell_type": "code",
      "execution_count": null,
      "metadata": {
        "colab": {
          "base_uri": "https://localhost:8080/"
        },
        "id": "UCUJWv2MgRw3",
        "outputId": "d1c52e54-8c3b-48fa-dd06-acfd8af1d56e"
      },
      "outputs": [
        {
          "output_type": "stream",
          "name": "stderr",
          "text": [
            "<ipython-input-18-c6b31d93cea9>:13: UserWarning: To copy construct from a tensor, it is recommended to use sourceTensor.clone().detach() or sourceTensor.clone().detach().requires_grad_(True), rather than torch.tensor(sourceTensor).\n",
            "  edge_index= torch.tensor(edges, dtype=torch.long)\n"
          ]
        }
      ],
      "source": [
        "import pickle\n",
        "import torch\n",
        "import random\n",
        "from torch_geometric.data import Data, DataLoader\n",
        "\n",
        "Dataset1=[]\n",
        "for i in sample_idx:\n",
        "  g=NERHVG(normalise(D.iloc[i,:]))\n",
        "  A=nx.adjacency_matrix(g)\n",
        "  edges = torch.nonzero(torch.tensor(A.toarray()), as_tuple=False).t()\n",
        "  edge_index= torch.tensor(edges, dtype=torch.long)\n",
        "  edge_index = edge_index.contiguous()\n",
        "  label=torch.tensor([0], dtype=torch.float32)\n",
        "  x1=nodeFeatures(g)\n",
        "  Dataset1.append(Data(x=x1, edge_index=edge_index, y=label))\n",
        "\n",
        "with open('/content/drive/MyDrive/NERHVG_Training/NERHVG_Dataset7.pkl', 'wb') as f: #Saving Dataset\n",
        "    pickle.dump(Dataset1, f)\n"
      ]
    },
    {
      "cell_type": "code",
      "source": [
        "import random\n",
        "import pickle\n",
        "#HVG Training Data\n",
        "with open('/content/drive/MyDrive/HVG_Training/HVG_Dataset2_ovrlp.pkl', 'rb') as f:\n",
        "    Dataset2=pickle.load(f)\n",
        "with open('/content/drive/MyDrive/HVG_Training/HVG_Dataset3.pkl', 'rb') as f:\n",
        "    Dataset3=pickle.load(f)\n",
        "with open('/content/drive/MyDrive/HVG_Training/HVG_Dataset7.pkl', 'rb') as f:\n",
        "    Dataset7=pickle.load(f)\n",
        "with open('/content/drive/MyDrive/HVG_Training/HVG_Dataset1.pkl', 'rb') as f:\n",
        "    Dataset1=pickle.load(f)\n",
        "with open('/content/drive/MyDrive/HVG_Training/HVG_Dataset8.pkl', 'rb') as f:\n",
        "    Dataset8=pickle.load(f)\n",
        "with open('/content/drive/MyDrive/HVG_Training/HVG_Dataset9.pkl', 'rb') as f:\n",
        "    Dataset9=pickle.load(f)\n",
        "Dataset_HVG=Dataset2+Dataset3+Dataset7+Dataset1+Dataset8+Dataset9\n",
        "random.shuffle(Dataset_HVG)\n",
        "with open('/content/drive/MyDrive/Training_Graph/Training_HVG_1_2_3_7_8_9.pkl', 'wb') as f:\n",
        "    pickle.dump(Dataset_HVG, f)\n",
        "\n",
        "len(Dataset_HVG)"
      ],
      "metadata": {
        "id": "2f1hj_kN_CvZ"
      },
      "execution_count": null,
      "outputs": []
    },
    {
      "cell_type": "code",
      "source": [
        "#NERHVG Training Data\n",
        "with open('/content/drive/MyDrive/NERHVG_Training/NERHVG_Dataset1.pkl', 'rb') as f:\n",
        "    Dataset1=pickle.load(f)\n",
        "with open('/content/drive/MyDrive/NERHVG_Training/NERHVG_Dataset8.pkl', 'rb') as f:\n",
        "    Dataset8=pickle.load(f)\n",
        "with open('/content/drive/MyDrive/NERHVG_Training/NERHVG_Dataset9.pkl', 'rb') as f:\n",
        "    Dataset9=pickle.load(f)\n",
        "with open('/content/drive/MyDrive/NERHVG_Training/NERHVG_Dataset2_ovrlp.pkl', 'rb') as f: #Saving Dataset\n",
        "    Dataset2=pickle.load(f)\n",
        "with open('/content/drive/MyDrive/NERHVG_Training/NERHVG_Dataset3.pkl', 'rb') as f: #Saving Dataset\n",
        "    Dataset3=pickle.load(f)\n",
        "with open('/content/drive/MyDrive/NERHVG_Training/NERHVG_Dataset7.pkl', 'rb') as f: #Saving Dataset\n",
        "    Dataset7=pickle.load(f)\n",
        "Dataset_NERHVG=Dataset2+Dataset3+Dataset7+Dataset1+Dataset8+Dataset9\n",
        "random.shuffle(Dataset_NERHVG)\n",
        "with open('/content/drive/MyDrive/Training_Graph/Training_NERHVG_1_2_3_7_8_9.pkl', 'wb') as f:\n",
        "    pickle.dump(Dataset_NERHVG, f)\n",
        "len(Dataset_NERHVG)"
      ],
      "metadata": {
        "id": "BnjjswUD_Erg"
      },
      "execution_count": null,
      "outputs": []
    },
    {
      "cell_type": "markdown",
      "source": [
        "**Testing Graph Data Creation**"
      ],
      "metadata": {
        "id": "eN8nqngs8kvC"
      }
    },
    {
      "cell_type": "code",
      "execution_count": null,
      "metadata": {
        "colab": {
          "base_uri": "https://localhost:8080/"
        },
        "id": "UdPUl-Bta3yk",
        "outputId": "347d743a-cd1b-4991-8821-ca8345a58054"
      },
      "outputs": [
        {
          "name": "stderr",
          "output_type": "stream",
          "text": [
            "<ipython-input-26-dfba73373654>:14: UserWarning: To copy construct from a tensor, it is recommended to use sourceTensor.clone().detach() or sourceTensor.clone().detach().requires_grad_(True), rather than torch.tensor(sourceTensor).\n",
            "  edge_index= torch.tensor(edges, dtype=torch.long)\n",
            "<ipython-input-26-dfba73373654>:28: UserWarning: To copy construct from a tensor, it is recommended to use sourceTensor.clone().detach() or sourceTensor.clone().detach().requires_grad_(True), rather than torch.tensor(sourceTensor).\n",
            "  edge_index = torch.tensor(edges, dtype=torch.long)\n"
          ]
        },
        {
          "name": "stdout",
          "output_type": "stream",
          "text": [
            "8796\n"
          ]
        }
      ],
      "source": [
        "import pickle\n",
        "import torch\n",
        "import random\n",
        "from torch_geometric.data import Data, DataLoader\n",
        "import pandas as pd\n",
        "D1=pd.read_csv(r\"/content/drive/MyDrive/Test data/Vital/mean_norm_movavgFilt5pt_clean_vitaldb.csv\") #signal segment loading\n",
        "d1=list(D1.iloc[:,0])\n",
        "l1=len(d1)//375\n",
        "Dataset1=[]\n",
        "for i in range(l1):\n",
        "  g=HVG(normalise(d1[i*375:(i+1)*375]))\n",
        "  A=nx.adjacency_matrix(g)\n",
        "  edges = torch.nonzero(torch.tensor(A.toarray()), as_tuple=False).t()\n",
        "  edge_index= torch.tensor(edges, dtype=torch.long)\n",
        "  edge_index = edge_index.contiguous()\n",
        "  label=torch.tensor([0], dtype=torch.float32)\n",
        "  x1=nodeFeatures(g)\n",
        "  Dataset1.append(Data(x=x1, edge_index=edge_index, y=label)) #Data format\n",
        "\n",
        "D2=pd.read_csv(r\"/content/drive/MyDrive/Test data/Vital/noisy_vital_awgn15_meanNorm.csv\") #signal segment loading\n",
        "d2=list(D2.iloc[:,0])\n",
        "l2=len(d2)//375\n",
        "Dataset2=[]\n",
        "for i in range(l2):\n",
        "  g=HVG(normalise(d2[i*375:(i+1)*375]))\n",
        "  A=nx.adjacency_matrix(g)\n",
        "  edges = torch.nonzero(torch.tensor(A.toarray()), as_tuple=False).t()\n",
        "  edge_index = torch.tensor(edges, dtype=torch.long)\n",
        "  edge_index = edge_index.contiguous()\n",
        "  label=torch.tensor([1], dtype=torch.float32)\n",
        "  x1=nodeFeatures(g)\n",
        "  Dataset2.append(Data(x=x1, edge_index=edge_index, y=label)) #Data format\n",
        "\n",
        "Dataset=Dataset1+Dataset2\n",
        "print(len(Dataset))\n",
        "random.shuffle(Dataset)\n",
        "with open('/content/drive/MyDrive/Test data/Vital/HVG_Vital.pkl', 'wb') as f: #Saving Dataset\n",
        "    pickle.dump(Dataset, f)"
      ]
    },
    {
      "cell_type": "code",
      "execution_count": null,
      "metadata": {
        "id": "SFtQFbP6zhqJ"
      },
      "outputs": [],
      "source": [
        "import pickle\n",
        "import torch\n",
        "import random\n",
        "from torch_geometric.data import Data, DataLoader\n",
        "import pandas as pd\n",
        "import os\n",
        "Dataset_main1=[]\n",
        "directory_path=r\"/content/drive/MyDrive/Test data/Queensland/Queens_test_clean\"\n",
        "for filename in os.listdir(directory_path):\n",
        "    if filename.endswith('.csv'):\n",
        "        file_path = os.path.join(directory_path, filename)\n",
        "        D1=pd.read_csv(file_path)\n",
        "        d1=list(D1.iloc[:,0])\n",
        "        l1=len(d1)//375\n",
        "        Dataset1=[]\n",
        "        for i in range(l1):\n",
        "          g=NERHVG(normalise(d1[i*375:(i+1)*375]))\n",
        "          A=nx.adjacency_matrix(g)\n",
        "          edges = torch.nonzero(torch.tensor(A.toarray()), as_tuple=False).t()\n",
        "          edge_index= torch.tensor(edges, dtype=torch.long)\n",
        "          edge_index = edge_index.contiguous()\n",
        "          label=torch.tensor([0], dtype=torch.float32)\n",
        "          x1=nodeFeatures(g)\n",
        "          Dataset1.append(Data(x=x1, edge_index=edge_index, y=label)) #Data format\n",
        "        Dataset_main1=Dataset_main1+Dataset1"
      ]
    },
    {
      "cell_type": "code",
      "execution_count": null,
      "metadata": {
        "id": "fRg0X6GY2KCR"
      },
      "outputs": [],
      "source": [
        "import pickle\n",
        "import torch\n",
        "import random\n",
        "from torch_geometric.data import Data, DataLoader\n",
        "import pandas as pd\n",
        "import os\n",
        "Dataset_main2=[]\n",
        "directory_path=r\"/content/drive/MyDrive/Test data/Queensland/Queens_test_noisy\"\n",
        "for filename in os.listdir(directory_path):\n",
        "    if filename.endswith('.csv'):\n",
        "        file_path = os.path.join(directory_path, filename)\n",
        "        D2=pd.read_csv(file_path)\n",
        "        d2=list(D2.iloc[:,0])\n",
        "        l2=len(d2)//375\n",
        "        Dataset2=[]\n",
        "        for i in range(l2):\n",
        "          g=NERHVG(normalise(d2[i*375:(i+1)*375]))\n",
        "          A=nx.adjacency_matrix(g)\n",
        "          edges = torch.nonzero(torch.tensor(A.toarray()), as_tuple=False).t()\n",
        "          edge_index= torch.tensor(edges, dtype=torch.long)\n",
        "          edge_index = edge_index.contiguous()\n",
        "          label=torch.tensor([1], dtype=torch.float32)\n",
        "          x1=nodeFeatures(g)\n",
        "          Dataset2.append(Data(x=x1, edge_index=edge_index, y=label)) #Data format\n",
        "        Dataset_main2=Dataset_main2+Dataset2"
      ]
    },
    {
      "cell_type": "code",
      "execution_count": null,
      "metadata": {
        "colab": {
          "base_uri": "https://localhost:8080/"
        },
        "id": "ozqO4gFW29Gu",
        "outputId": "39c207fa-b051-4bf8-cad4-a733b5d1cf8c"
      },
      "outputs": [
        {
          "name": "stdout",
          "output_type": "stream",
          "text": [
            "6321\n"
          ]
        }
      ],
      "source": [
        "import random\n",
        "import pickle\n",
        "Dataset=Dataset_main1+Dataset_main2\n",
        "print(len(Dataset))\n",
        "with open('/content/drive/MyDrive/Test data/Queensland/NERHVG_Queens.pkl', 'wb') as f: #Saving Dataset\n",
        "    pickle.dump(Dataset, f)"
      ]
    },
    {
      "cell_type": "code",
      "source": [
        "import pickle\n",
        "import torch\n",
        "import random\n",
        "from torch_geometric.data import Data, DataLoader\n",
        "import pandas as pd\n",
        "import os\n",
        "Dataset_main1=[]\n",
        "directory_path=r\"/content/drive/MyDrive/Test data/PTT/PTT_clean\"\n",
        "for filename in os.listdir(directory_path):\n",
        "    if filename.endswith('.csv'):\n",
        "        file_path = os.path.join(directory_path, filename)\n",
        "        D1=pd.read_csv(file_path)\n",
        "        d1=list(D1.iloc[:,0])\n",
        "        l1=len(d1)//375\n",
        "        Dataset1=[]\n",
        "        for i in range(l1):\n",
        "          g=HVG(normalise(d1[i*375:(i+1)*375]))\n",
        "          A=nx.adjacency_matrix(g)\n",
        "          edges = torch.nonzero(torch.tensor(A.toarray()), as_tuple=False).t()\n",
        "          edge_index= torch.tensor(edges, dtype=torch.long)\n",
        "          edge_index = edge_index.contiguous()\n",
        "          label=torch.tensor([0], dtype=torch.float32)\n",
        "          x1=nodeFeatures(g)\n",
        "          Dataset1.append(Data(x=x1, edge_index=edge_index, y=label)) #Data format\n",
        "        Dataset_main1=Dataset_main1+Dataset1"
      ],
      "metadata": {
        "id": "HCp9jgb0WPRT"
      },
      "execution_count": null,
      "outputs": []
    },
    {
      "cell_type": "code",
      "source": [
        "import pickle\n",
        "import torch\n",
        "import random\n",
        "from torch_geometric.data import Data, DataLoader\n",
        "import pandas as pd\n",
        "import os\n",
        "Dataset_main2=[]\n",
        "directory_path=r\"/content/drive/MyDrive/Test data/PTT/PTT_noisy\"\n",
        "for filename in os.listdir(directory_path):\n",
        "    if filename.endswith('.csv'):\n",
        "        file_path = os.path.join(directory_path, filename)\n",
        "        D2=pd.read_csv(file_path)\n",
        "        d2=list(D2.iloc[:,0])\n",
        "        l2=len(d2)//375\n",
        "        Dataset2=[]\n",
        "        for i in range(l2):\n",
        "          g=HVG(normalise(d2[i*375:(i+1)*375]))\n",
        "          A=nx.adjacency_matrix(g)\n",
        "          edges = torch.nonzero(torch.tensor(A.toarray()), as_tuple=False).t()\n",
        "          edge_index= torch.tensor(edges, dtype=torch.long)\n",
        "          edge_index = edge_index.contiguous()\n",
        "          label=torch.tensor([1], dtype=torch.float32)\n",
        "          x1=nodeFeatures(g)\n",
        "          Dataset2.append(Data(x=x1, edge_index=edge_index, y=label)) #Data format\n",
        "        Dataset_main2=Dataset_main2+Dataset2"
      ],
      "metadata": {
        "id": "hdD7C1vPXk3h"
      },
      "execution_count": null,
      "outputs": []
    },
    {
      "cell_type": "code",
      "source": [
        "import random\n",
        "import pickle\n",
        "Dataset=Dataset_main1+Dataset_main2\n",
        "print(len(Dataset))\n",
        "with open('/content/drive/MyDrive/Test data/PTT/HVG_PTT.pkl', 'wb') as f: #Saving Dataset\n",
        "    pickle.dump(Dataset, f)"
      ],
      "metadata": {
        "colab": {
          "base_uri": "https://localhost:8080/"
        },
        "id": "cwWXYq7_X2GB",
        "outputId": "053a7737-1282-4445-8d2f-6acb53ab98c9"
      },
      "execution_count": null,
      "outputs": [
        {
          "output_type": "stream",
          "name": "stdout",
          "text": [
            "6089\n"
          ]
        }
      ]
    },
    {
      "cell_type": "code",
      "source": [
        "len(Dataset)"
      ],
      "metadata": {
        "colab": {
          "base_uri": "https://localhost:8080/"
        },
        "id": "0L5VNe0iYFqq",
        "outputId": "d4f3d3d1-a551-4b1d-ebe0-f0f8c365aa25"
      },
      "execution_count": null,
      "outputs": [
        {
          "output_type": "execute_result",
          "data": {
            "text/plain": [
              "6089"
            ]
          },
          "metadata": {},
          "execution_count": 22
        }
      ]
    },
    {
      "cell_type": "markdown",
      "source": [
        "**Tuning Graph Data Creation**"
      ],
      "metadata": {
        "id": "jiwKv42y9PGl"
      }
    },
    {
      "cell_type": "code",
      "execution_count": null,
      "metadata": {
        "id": "gYuE2ljW7Mr3"
      },
      "outputs": [],
      "source": [
        "D=pd.read_csv(r\"/content/drive/MyDrive/PPG_Dataset/vi_Normalized_Noise_data_3seconds_wrist_cup.csv\")"
      ]
    },
    {
      "cell_type": "code",
      "execution_count": null,
      "metadata": {
        "colab": {
          "base_uri": "https://localhost:8080/"
        },
        "id": "aSMfDKmw7ipv",
        "outputId": "9b029d3f-2052-4706-aaaa-532b661f07f9"
      },
      "outputs": [
        {
          "data": {
            "text/plain": [
              "5041"
            ]
          },
          "execution_count": 33,
          "metadata": {},
          "output_type": "execute_result"
        }
      ],
      "source": [
        "len(D)"
      ]
    },
    {
      "cell_type": "code",
      "execution_count": null,
      "metadata": {
        "colab": {
          "base_uri": "https://localhost:8080/"
        },
        "id": "08D1-k-a4oI_",
        "outputId": "d03451c8-4a62-4948-a0c3-86657c533e4a"
      },
      "outputs": [
        {
          "name": "stderr",
          "output_type": "stream",
          "text": [
            "<ipython-input-14-ebdf8597a5cb>:11: UserWarning: To copy construct from a tensor, it is recommended to use sourceTensor.clone().detach() or sourceTensor.clone().detach().requires_grad_(True), rather than torch.tensor(sourceTensor).\n",
            "  edge_index_NERHVG = torch.tensor(edges_NERHVG, dtype=torch.long)\n"
          ]
        }
      ],
      "source": [
        "import pickle\n",
        "import torch\n",
        "from torch_geometric.data import Data, DataLoader\n",
        "import pandas as pd\n",
        "D=pd.read_csv(r\"/content/drive/MyDrive/PPG_Dataset/ix_Normalized_xrand_only_from_Ma_acc_rand_wrist_cup.csv\") #signal segment loading\n",
        "Dataset9=[]\n",
        "for i in range(15000):\n",
        "  g_nerhvg=NERHVG(normalise(D.iloc[i,:]))\n",
        "  A_NERHVG=nx.adjacency_matrix(g_nerhvg)\n",
        "  edges_NERHVG = torch.nonzero(torch.tensor(A_NERHVG.toarray()), as_tuple=False).t()\n",
        "  edge_index_NERHVG = torch.tensor(edges_NERHVG, dtype=torch.long)\n",
        "  edge_index_NERHVG = edge_index_NERHVG.contiguous()\n",
        "  label=torch.tensor([1], dtype=torch.float32)\n",
        "  x1=nodeFeatures(g_nerhvg)\n",
        "  Dataset9.append(Data(x=x1, edge_index=edge_index_NERHVG, y=label)) #Data format\n",
        "with open('/content/drive/MyDrive/NERHVG_Pickle/graph9_0_15000.pkl', 'wb') as f: #Saving Dataset\n",
        "    pickle.dump(Dataset9, f)"
      ]
    },
    {
      "cell_type": "code",
      "execution_count": null,
      "metadata": {
        "id": "7_w_btON6kYk"
      },
      "outputs": [],
      "source": [
        "import random\n",
        "import os\n",
        "import torch\n",
        "from torch_geometric.data import Data, DataLoader\n",
        "import pickle\n",
        "\n",
        "#Dataset.append(Data(x=x1, edge_index=edge_index1, y=y1))\n",
        "with open('/content/drive/MyDrive/NERHVG_Pickle/graph2.pkl', 'rb') as f:\n",
        "    dataset2 = pickle.load(f)\n",
        "with open('/content/drive/MyDrive/NERHVG_Pickle/graph2_ovrlp.pkl', 'rb') as f:\n",
        "    dataset2_ovrlp = pickle.load(f)\n",
        "with open('/content/drive/MyDrive/NERHVG_Pickle/graph3_0_30000.pkl', 'rb') as f:\n",
        "    dataset3 = pickle.load(f)\n",
        "with open('/content/drive/MyDrive/NERHVG_Pickle/graph7.pkl', 'rb') as f:\n",
        "    dataset7 = pickle.load(f)\n",
        "with open('/content/drive/MyDrive/NERHVG_Pickle/graph8_0_10000.pkl', 'rb') as f:\n",
        "    dataset8 = pickle.load(f)\n",
        "with open('/content/drive/MyDrive/NERHVG_Pickle/graph9_0_15000.pkl', 'rb') as f:\n",
        "    dataset9 = pickle.load(f)\n",
        "with open('/content/drive/MyDrive/NERHVG_Pickle/graph10_0_45320.pkl', 'rb') as f:\n",
        "    dataset10 = pickle.load(f)\n",
        "with open('/content/drive/MyDrive/NERHVG_Pickle/graph4.pkl', 'rb') as f:\n",
        "    dataset4 = pickle.load(f)\n",
        "with open('/content/drive/MyDrive/NERHVG_Pickle/graph5.pkl', 'rb') as f:\n",
        "    dataset5 = pickle.load(f)\n",
        "with open('/content/drive/MyDrive/NERHVG_Pickle/graph6.pkl', 'rb') as f:\n",
        "    dataset6 = pickle.load(f)\n",
        "Dataset_clean=dataset2+dataset2_ovrlp[0:9223]+dataset3[0:10000]+dataset7[0:10000]\n",
        "random.shuffle(Dataset_clean)\n",
        "Dataset_noisy=dataset4+dataset5+dataset6+dataset8[0:5000]+dataset9[0:8743]+dataset10[0:5000]\n",
        "random.shuffle(Dataset_noisy)\n",
        "Dataset=Dataset_clean+Dataset_noisy\n",
        "random.shuffle(Dataset)\n"
      ]
    },
    {
      "cell_type": "code",
      "execution_count": null,
      "metadata": {
        "colab": {
          "base_uri": "https://localhost:8080/"
        },
        "id": "XwZpd-iTLltR",
        "outputId": "164b18d3-aef4-413e-a27a-8a0793cc22a1"
      },
      "outputs": [
        {
          "data": {
            "text/plain": [
              "60000"
            ]
          },
          "execution_count": 14,
          "metadata": {},
          "output_type": "execute_result"
        }
      ],
      "source": [
        "len(Dataset)"
      ]
    },
    {
      "cell_type": "code",
      "execution_count": null,
      "metadata": {
        "id": "iu4q3-tV1O8c"
      },
      "outputs": [],
      "source": [
        "from sklearn.model_selection import train_test_split\n",
        "train_data, val_data = train_test_split(Dataset, test_size=0.2, random_state=42)\n",
        "\n",
        "with open('/content/drive/MyDrive/NERHVG_Pickle/Training_NERHVG.pkl', 'wb') as f:\n",
        "    pickle.dump(train_data, f)\n",
        "\n",
        "with open('/content/drive/MyDrive/NERHVG_Pickle/Val_NERHVG.pkl', 'wb') as f:\n",
        "    pickle.dump(val_data, f)"
      ]
    },
    {
      "cell_type": "markdown",
      "metadata": {
        "id": "7wWZr5f3vsVZ"
      },
      "source": [
        "# **GCN Classifier Model for HVG & NERHVG Graphs**"
      ]
    },
    {
      "cell_type": "code",
      "execution_count": null,
      "metadata": {
        "id": "j4q1DSXiYy2w"
      },
      "outputs": [],
      "source": [
        "import torch\n",
        "import torch.nn as nn\n",
        "import torch.nn.functional as F\n",
        "from torch_geometric.nn import GCNConv\n",
        "from torch_geometric.data import Data, DataLoader\n",
        "import torch.optim as optim\n",
        "\n",
        "class GCNClassifier(nn.Module):\n",
        "    def __init__(self, in_channels, hidden_channels, out_channels):\n",
        "        super(GCNClassifier, self).__init__()\n",
        "        self.conv1 = GCNConv(in_channels, hidden_channels, add_self_loops=True, normalize=True)\n",
        "        self.conv2 = GCNConv(hidden_channels, 4)\n",
        "        self.conv3 = GCNConv(4,2)\n",
        "        self.conv4 = GCNConv(2,1)\n",
        "        #self.conv5 = GCNConv(2,1)\n",
        "        self.lin = nn.Linear(1, out_channels)\n",
        "\n",
        "    def forward(self, x, edge_index, batch):\n",
        "        x = F.leaky_relu(self.conv1(x, edge_index))\n",
        "        x = F.leaky_relu(self.conv2(x, edge_index))\n",
        "        x = F.leaky_relu(self.conv3(x, edge_index))\n",
        "        x = F.leaky_relu(self.conv4(x, edge_index))\n",
        "        #x = F.leaky_relu(self.conv5(x, edge_index))\n",
        "        batch_aggregated_embeddings = []\n",
        "        for batch_id in batch.unique():\n",
        "            graph_indices = (batch == batch_id).nonzero().squeeze(1)\n",
        "            graph_embedding = torch.mean(x[graph_indices], dim=0)\n",
        "            batch_aggregated_embeddings.append(graph_embedding)\n",
        "\n",
        "        return torch.sigmoid(self.lin(torch.stack(batch_aggregated_embeddings)))"
      ]
    },
    {
      "cell_type": "code",
      "source": [
        "import torch\n",
        "import torch.nn as nn\n",
        "import torch.nn.functional as F\n",
        "from torch_geometric.nn import GCNConv\n",
        "from torch_geometric.data import Data, DataLoader\n",
        "import torch.optim as optim\n",
        "\n",
        "class GCNClassifier2(nn.Module):\n",
        "    def __init__(self, in_channels, hidden_channels, out_channels):\n",
        "        super(GCNClassifier2, self).__init__()\n",
        "        self.conv1 = GCNConv(in_channels, hidden_channels, add_self_loops=True, normalize=True)\n",
        "        self.conv2 = GCNConv(hidden_channels, 8)\n",
        "        self.conv3 = GCNConv(8,4)\n",
        "        self.conv4 = GCNConv(4,2)\n",
        "        self.conv5 = GCNConv(2,1)\n",
        "        self.lin = nn.Linear(1, out_channels)\n",
        "\n",
        "    def forward(self, x, edge_index, batch):\n",
        "        x = F.leaky_relu(self.conv1(x, edge_index))\n",
        "        x = F.leaky_relu(self.conv2(x, edge_index))\n",
        "        x = F.leaky_relu(self.conv3(x, edge_index))\n",
        "        x = F.leaky_relu(self.conv4(x, edge_index))\n",
        "        x = F.leaky_relu(self.conv5(x, edge_index))\n",
        "        batch_aggregated_embeddings = []\n",
        "        for batch_id in batch.unique():\n",
        "            graph_indices = (batch == batch_id).nonzero().squeeze(1)\n",
        "            graph_embedding = torch.mean(x[graph_indices], dim=0)\n",
        "            batch_aggregated_embeddings.append(graph_embedding)\n",
        "\n",
        "        return torch.sigmoid(self.lin(torch.stack(batch_aggregated_embeddings)))"
      ],
      "metadata": {
        "id": "JkyRdX59b4v4"
      },
      "execution_count": null,
      "outputs": []
    },
    {
      "cell_type": "code",
      "source": [],
      "metadata": {
        "id": "uygJ-Z3D0E-B"
      },
      "execution_count": null,
      "outputs": []
    },
    {
      "cell_type": "markdown",
      "metadata": {
        "id": "6Dy2j3Xaj1T7"
      },
      "source": [
        "# **Model Hyperparameter Tuning**"
      ]
    },
    {
      "cell_type": "code",
      "source": [
        "#HVG Training Validation Data\n",
        "import pickle\n",
        "with open('/content/drive/MyDrive/Tuning_graph/Train_data.pkl', 'rb') as f:\n",
        "    train_data=pickle.load(f)\n",
        "with open('/content/drive/MyDrive/Tuning_graph/Val_data.pkl', 'rb') as f:\n",
        "    val_data=pickle.load(f)\n",
        "from torch_geometric.data import Data, DataLoader\n",
        "batch_size = 8\n",
        "train_loader = DataLoader(train_data, batch_size=batch_size, shuffle=True)\n",
        "val_loader = DataLoader(val_data, batch_size=batch_size, shuffle=True)\n",
        "\n"
      ],
      "metadata": {
        "id": "S_rKg75cBQ9-"
      },
      "execution_count": null,
      "outputs": []
    },
    {
      "cell_type": "code",
      "execution_count": null,
      "metadata": {
        "id": "ECbWJgWL1NJp"
      },
      "outputs": [],
      "source": [
        "# Initialize your model, loss function, and optimizer\n",
        "model = GCNClassifier(in_channels=2, hidden_channels=16, out_channels=1)\n",
        "criterion = nn.BCELoss()\n",
        "optimizer = optim.Adam(model.parameters(), lr=0.01)\n",
        "# batch_size = 8\n",
        "\n",
        "#from sklearn.model_selection import train_test_split\n",
        "\n",
        "# Split dataset into training and validation sets\n",
        "#train_data, val_data = train_test_split(Dataset, test_size=0.2, random_state=42)\n",
        "\n",
        "# Define data loaders for training and validation sets\n",
        "# train_loader = DataLoader(train_data, batch_size=batch_size, shuffle=True)\n",
        "# val_loader = DataLoader(val_data, batch_size=batch_size, shuffle=True)\n",
        "T_loss=[]\n",
        "V_loss=[]\n",
        "T_accuracy=[]\n",
        "V_accuracy=[]\n",
        "\n",
        "# Training loop\n",
        "num_epochs = 20\n",
        "for epoch in range(num_epochs):\n",
        "    running_train_loss = 0.0\n",
        "    correct_train = 0\n",
        "    total_train = 0\n",
        "\n",
        "    # Training phase\n",
        "    model.train()\n",
        "    for i, data in enumerate(train_loader):\n",
        "        inputs, labels = data.x, data.y\n",
        "        #print('label is', labels, len(labels))\n",
        "        optimizer.zero_grad()\n",
        "        labels = labels.view(-1, 1)\n",
        "        outputs = model(inputs, data.edge_index, data.batch)\n",
        "        #print('output is', outputs)\n",
        "        loss = criterion(outputs, labels)\n",
        "        loss.backward()\n",
        "        optimizer.step()\n",
        "\n",
        "        running_train_loss += loss.item()\n",
        "\n",
        "        # Calculate training accuracy\n",
        "        predicted = outputs.round()\n",
        "        correct_train += predicted.eq(labels.view_as(predicted)).sum().item()\n",
        "        total_train += labels.size(0)\n",
        "\n",
        "    train_loss = running_train_loss / len(train_loader)\n",
        "    train_accuracy = 100 * correct_train / total_train\n",
        "    T_loss.append(train_loss)\n",
        "    T_accuracy.append(train_accuracy)\n",
        "    # Validation phase\n",
        "    model.eval()\n",
        "    running_val_loss = 0.0\n",
        "    correct_val = 0\n",
        "    total_val = 0\n",
        "    with torch.no_grad():\n",
        "        for i, data in enumerate(val_loader):\n",
        "            inputs, labels = data.x, data.y\n",
        "            labels = labels.view(-1, 1)\n",
        "            outputs = model(inputs, data.edge_index, data.batch)\n",
        "            loss = criterion(outputs, labels)\n",
        "            running_val_loss += loss.item()\n",
        "\n",
        "            # Calculate validation accuracy\n",
        "            predicted = outputs.round()\n",
        "            correct_val += predicted.eq(labels.view_as(predicted)).sum().item()\n",
        "            total_val += labels.size(0)\n",
        "\n",
        "    val_loss = running_val_loss / len(val_loader)\n",
        "    val_accuracy = 100 * correct_val / total_val\n",
        "    V_loss.append(val_loss)\n",
        "    V_accuracy.append(val_accuracy)\n",
        "    # Print training and validation loss, training and validation accuracy\n",
        "    print(f'Epoch [{epoch+1}/{num_epochs}], '\n",
        "          f'Training Loss: {train_loss:.4f}, Training Accuracy: {train_accuracy:.2f}%, '\n",
        "          f'Validation Loss: {val_loss:.4f}, Validation Accuracy: {val_accuracy:.2f}%')\n"
      ]
    },
    {
      "cell_type": "code",
      "source": [
        "torch.save(model.state_dict(),\"/content/drive/MyDrive/Tuning_graph/model_leaky_relu_2_16_8_4_2_1_HVG\")"
      ],
      "metadata": {
        "id": "_WaiDkkICsoH"
      },
      "execution_count": null,
      "outputs": []
    },
    {
      "cell_type": "code",
      "source": [
        "import matplotlib.pyplot as plt\n",
        "# Create figure and subplots\n",
        "fig, axs = plt.subplots(2)\n",
        "\n",
        "# Plot Loss\n",
        "axs[0].plot(T_loss, label='Training loss')\n",
        "axs[0].plot(V_loss, label='Validation loss')\n",
        "#axs[0].set_title(f'Plot for layers (2,4,1 nodes)')   #####Change Change Change\n",
        "axs[0].legend()\n",
        "\n",
        "# Plot Accuracy\n",
        "axs[1].plot(T_accuracy, label='Training accuracy')\n",
        "axs[1].plot(V_accuracy, label='Validation accuracy')\n",
        "axs[1].legend()\n",
        "\n",
        "# Adjust layout\n",
        "plt.tight_layout()\n",
        "\n",
        "# Save figure\n",
        "plt.savefig('/content/drive/MyDrive/Tuning_graph/plots_leaky_relu_2_16_8_4_2_1_HVG.png',dpi=1000) #############################\n",
        "\n",
        "# Show plot\n",
        "plt.show()\n"
      ],
      "metadata": {
        "id": "DFkjitY8C7QU"
      },
      "execution_count": null,
      "outputs": []
    },
    {
      "cell_type": "markdown",
      "source": [
        "# **Load Selected Model and Train with NERHVG Training Data**"
      ],
      "metadata": {
        "id": "5xg53odeDUAe"
      }
    },
    {
      "cell_type": "code",
      "source": [
        "# Initialize your model, loss function, and optimizer\n",
        "model=GCNClassifier(in_channels=2, hidden_channels=8, out_channels=1)\n",
        "model.load_state_dict(torch.load(\"/content/drive/MyDrive/Model/Leaky_model_2_8_4_2_1_NERHVG\"))"
      ],
      "metadata": {
        "colab": {
          "base_uri": "https://localhost:8080/"
        },
        "id": "A-TCVLv5DbcU",
        "outputId": "410a3742-0429-4001-817d-63b893d102f0"
      },
      "execution_count": null,
      "outputs": [
        {
          "output_type": "execute_result",
          "data": {
            "text/plain": [
              "<All keys matched successfully>"
            ]
          },
          "metadata": {},
          "execution_count": 27
        }
      ]
    },
    {
      "cell_type": "code",
      "source": [
        "#uploading Dataset\n",
        "import pickle\n",
        "with open('/content/drive/MyDrive/Training_Graph/Training_NERHVG_1_2_3_7_8_9.pkl', 'rb') as f:\n",
        "    train_data=pickle.load(f)\n",
        "from torch_geometric.data import Data, DataLoader\n",
        "batch_size = 8\n",
        "train_loader = DataLoader(train_data, batch_size=batch_size, shuffle=True)"
      ],
      "metadata": {
        "colab": {
          "base_uri": "https://localhost:8080/"
        },
        "id": "f0q983-cIO05",
        "outputId": "97051941-0c0e-4860-a1e3-7828693642e7"
      },
      "execution_count": null,
      "outputs": [
        {
          "output_type": "stream",
          "name": "stderr",
          "text": [
            "/usr/local/lib/python3.10/dist-packages/torch_geometric/deprecation.py:26: UserWarning: 'data.DataLoader' is deprecated, use 'loader.DataLoader' instead\n",
            "  warnings.warn(out)\n"
          ]
        }
      ]
    },
    {
      "cell_type": "code",
      "source": [
        "criterion = nn.BCELoss()\n",
        "optimizer = optim.Adam(model.parameters(), lr=0.001)\n",
        "T_loss=[]\n",
        "T_accuracy=[]\n",
        "\n",
        "# Training loop\n",
        "num_epochs = 40\n",
        "for epoch in range(num_epochs):\n",
        "    running_train_loss = 0.0\n",
        "    correct_train = 0\n",
        "    total_train = 0\n",
        "\n",
        "    # Training phase\n",
        "    model.train()\n",
        "    for i, data in enumerate(train_loader):\n",
        "        inputs, labels = data.x, data.y\n",
        "        #print('label is', labels, len(labels))\n",
        "        optimizer.zero_grad()\n",
        "        labels = labels.view(-1, 1)\n",
        "        outputs = model(inputs, data.edge_index, data.batch)\n",
        "        #print('output is', outputs)\n",
        "        loss = criterion(outputs, labels)\n",
        "        loss.backward()\n",
        "        optimizer.step()\n",
        "\n",
        "        running_train_loss += loss.item()\n",
        "\n",
        "        # Calculate training accuracy\n",
        "        predicted = outputs.round()\n",
        "        correct_train += predicted.eq(labels.view_as(predicted)).sum().item()\n",
        "        total_train += labels.size(0)\n",
        "\n",
        "    train_loss = running_train_loss / len(train_loader)\n",
        "    train_accuracy = 100 * correct_train / total_train\n",
        "    T_loss.append(train_loss)\n",
        "    T_accuracy.append(train_accuracy)\n",
        "\n",
        "\n",
        "    print(f'Epoch [{epoch+1}/{num_epochs}], '\n",
        "          f'Training Loss: {train_loss:.4f}, Training Accuracy: {train_accuracy:.2f}%')\n"
      ],
      "metadata": {
        "colab": {
          "base_uri": "https://localhost:8080/"
        },
        "id": "9RCAlh_ZDxs0",
        "outputId": "e616f8e1-6a80-48fe-863b-aabcab87a5ec"
      },
      "execution_count": null,
      "outputs": [
        {
          "output_type": "stream",
          "name": "stdout",
          "text": [
            "Epoch [1/40], Training Loss: 0.0937, Training Accuracy: 96.94%\n",
            "Epoch [2/40], Training Loss: 0.0903, Training Accuracy: 97.03%\n",
            "Epoch [3/40], Training Loss: 0.0886, Training Accuracy: 96.99%\n",
            "Epoch [4/40], Training Loss: 0.0868, Training Accuracy: 97.07%\n",
            "Epoch [5/40], Training Loss: 0.0856, Training Accuracy: 97.08%\n",
            "Epoch [6/40], Training Loss: 0.0839, Training Accuracy: 97.15%\n",
            "Epoch [7/40], Training Loss: 0.0830, Training Accuracy: 97.18%\n",
            "Epoch [8/40], Training Loss: 0.0812, Training Accuracy: 97.20%\n",
            "Epoch [9/40], Training Loss: 0.0789, Training Accuracy: 97.18%\n",
            "Epoch [10/40], Training Loss: 0.0776, Training Accuracy: 97.28%\n",
            "Epoch [11/40], Training Loss: 0.0766, Training Accuracy: 97.28%\n",
            "Epoch [12/40], Training Loss: 0.0759, Training Accuracy: 97.28%\n",
            "Epoch [13/40], Training Loss: 0.0751, Training Accuracy: 97.31%\n",
            "Epoch [14/40], Training Loss: 0.0750, Training Accuracy: 97.33%\n",
            "Epoch [15/40], Training Loss: 0.0741, Training Accuracy: 97.34%\n",
            "Epoch [16/40], Training Loss: 0.0732, Training Accuracy: 97.37%\n",
            "Epoch [17/40], Training Loss: 0.0731, Training Accuracy: 97.38%\n",
            "Epoch [18/40], Training Loss: 0.0729, Training Accuracy: 97.38%\n",
            "Epoch [19/40], Training Loss: 0.0724, Training Accuracy: 97.41%\n",
            "Epoch [20/40], Training Loss: 0.0719, Training Accuracy: 97.40%\n",
            "Epoch [21/40], Training Loss: 0.0717, Training Accuracy: 97.42%\n",
            "Epoch [22/40], Training Loss: 0.0715, Training Accuracy: 97.42%\n",
            "Epoch [23/40], Training Loss: 0.0718, Training Accuracy: 97.42%\n",
            "Epoch [24/40], Training Loss: 0.0715, Training Accuracy: 97.48%\n",
            "Epoch [25/40], Training Loss: 0.0715, Training Accuracy: 97.43%\n",
            "Epoch [26/40], Training Loss: 0.0711, Training Accuracy: 97.44%\n",
            "Epoch [27/40], Training Loss: 0.0710, Training Accuracy: 97.44%\n",
            "Epoch [28/40], Training Loss: 0.0706, Training Accuracy: 97.44%\n",
            "Epoch [29/40], Training Loss: 0.0710, Training Accuracy: 97.41%\n",
            "Epoch [30/40], Training Loss: 0.0709, Training Accuracy: 97.46%\n",
            "Epoch [31/40], Training Loss: 0.0704, Training Accuracy: 97.48%\n",
            "Epoch [32/40], Training Loss: 0.0705, Training Accuracy: 97.46%\n",
            "Epoch [33/40], Training Loss: 0.0702, Training Accuracy: 97.46%\n",
            "Epoch [34/40], Training Loss: 0.0705, Training Accuracy: 97.47%\n",
            "Epoch [35/40], Training Loss: 0.0701, Training Accuracy: 97.47%\n",
            "Epoch [36/40], Training Loss: 0.0699, Training Accuracy: 97.52%\n",
            "Epoch [37/40], Training Loss: 0.0700, Training Accuracy: 97.47%\n",
            "Epoch [38/40], Training Loss: 0.0696, Training Accuracy: 97.49%\n",
            "Epoch [39/40], Training Loss: 0.0693, Training Accuracy: 97.47%\n",
            "Epoch [40/40], Training Loss: 0.0695, Training Accuracy: 97.49%\n"
          ]
        }
      ]
    },
    {
      "cell_type": "code",
      "source": [
        "torch.save(model.state_dict(),\"/content/drive/MyDrive/Model/Trained_Lrelu_2_8_4_2_1_NERHVG\")"
      ],
      "metadata": {
        "id": "Gt0yD5tqGfLD"
      },
      "execution_count": null,
      "outputs": []
    },
    {
      "cell_type": "code",
      "source": [
        "import matplotlib.pyplot as plt\n",
        "# Create figure and subplots\n",
        "fig, axs = plt.subplots(2)\n",
        "\n",
        "# Plot Loss\n",
        "axs[0].plot(T_loss, label='Training loss')\n",
        "#axs[0].plot(V_loss, label='Validation loss')\n",
        "#axs[0].set_title(f'Plot for layers (2,4,1 nodes)')   #####Change Change Change\n",
        "axs[0].legend()\n",
        "\n",
        "# Plot Accuracy\n",
        "axs[1].plot(T_accuracy, label='Training accuracy')\n",
        "#axs[1].plot(V_accuracy, label='Validation accuracy')\n",
        "axs[1].legend()\n",
        "\n",
        "# Adjust layout\n",
        "plt.tight_layout()\n",
        "\n",
        "# Save figure\n",
        "plt.savefig('/content/drive/MyDrive/Model/FullyTrained_relu_2_8_4_2_1_NERHVG.png',dpi=1000)"
      ],
      "metadata": {
        "colab": {
          "base_uri": "https://localhost:8080/",
          "height": 487
        },
        "id": "SpatBFZsH7QQ",
        "outputId": "3af276bf-94e4-4d91-e5eb-c5c24af94e43"
      },
      "execution_count": null,
      "outputs": [
        {
          "output_type": "display_data",
          "data": {
            "text/plain": [
              "<Figure size 640x480 with 2 Axes>"
            ],
            "image/png": "[encoded data removed]"
          },
          "metadata": {}
        }
      ]
    },
    {
      "cell_type": "code",
      "source": [
        "with open('/content/drive/MyDrive/Model/TrainingLoss_2_8_4_2_1_NERHVG001', 'wb') as f: #Saving Dataset\n",
        "    pickle.dump(T_loss, f)\n",
        "with open('/content/drive/MyDrive/Model/TrainingAccuracy_2_8_4_2_1_NERHVG001', 'wb') as f: #Saving Dataset\n",
        "    pickle.dump(T_accuracy, f)"
      ],
      "metadata": {
        "id": "9YKYLuK5qNo1"
      },
      "execution_count": null,
      "outputs": []
    },
    {
      "cell_type": "markdown",
      "source": [
        "# **Load Selected Model and Train with HVG Training Data**"
      ],
      "metadata": {
        "id": "7bCwSuS8AMuc"
      }
    },
    {
      "cell_type": "code",
      "source": [
        "# Initialize your model, loss function, and optimizer\n",
        "model=GCNClassifier(in_channels=2, hidden_channels=8, out_channels=1)\n",
        "model.load_state_dict(torch.load(\"/content/drive/MyDrive/Model/model_leaky_relu_2_8_4_2_1_HVG\"))"
      ],
      "metadata": {
        "colab": {
          "base_uri": "https://localhost:8080/"
        },
        "id": "I1beujPtAQJF",
        "outputId": "c1aa01e3-6c3d-4f6b-e7a6-fb31d7e3bfd2"
      },
      "execution_count": null,
      "outputs": [
        {
          "output_type": "execute_result",
          "data": {
            "text/plain": [
              "<All keys matched successfully>"
            ]
          },
          "metadata": {},
          "execution_count": 8
        }
      ]
    },
    {
      "cell_type": "code",
      "source": [
        "#uploading Dataset\n",
        "import pickle\n",
        "with open('/content/drive/MyDrive/Training_Graph/Training_HVG_1_2_3_7_8_9.pkl', 'rb') as f:\n",
        "    train_data=pickle.load(f)\n",
        "from torch_geometric.data import Data, DataLoader\n",
        "batch_size = 8\n",
        "train_loader = DataLoader(train_data, batch_size=batch_size, shuffle=True)\n",
        "\n",
        "criterion = nn.BCELoss()\n",
        "optimizer = optim.Adam(model.parameters(), lr=0.001)\n",
        "T_loss=[]\n",
        "T_accuracy=[]\n",
        "\n",
        "# Training loop\n",
        "num_epochs = 40\n",
        "for epoch in range(num_epochs):\n",
        "    running_train_loss = 0.0\n",
        "    correct_train = 0\n",
        "    total_train = 0\n",
        "\n",
        "    # Training phase\n",
        "    model.train()\n",
        "    for i, data in enumerate(train_loader):\n",
        "        inputs, labels = data.x, data.y\n",
        "        #print('label is', labels, len(labels))\n",
        "        optimizer.zero_grad()\n",
        "        labels = labels.view(-1, 1)\n",
        "        outputs = model(inputs, data.edge_index, data.batch)\n",
        "        #print('output is', outputs)\n",
        "        loss = criterion(outputs, labels)\n",
        "        loss.backward()\n",
        "        optimizer.step()\n",
        "\n",
        "        running_train_loss += loss.item()\n",
        "\n",
        "        # Calculate training accuracy\n",
        "        predicted = outputs.round()\n",
        "        correct_train += predicted.eq(labels.view_as(predicted)).sum().item()\n",
        "        total_train += labels.size(0)\n",
        "\n",
        "    train_loss = running_train_loss / len(train_loader)\n",
        "    train_accuracy = 100 * correct_train / total_train\n",
        "    T_loss.append(train_loss)\n",
        "    T_accuracy.append(train_accuracy)\n",
        "\n",
        "\n",
        "    print(f'Epoch [{epoch+1}/{num_epochs}], '\n",
        "          f'Training Loss: {train_loss:.4f}, Training Accuracy: {train_accuracy:.2f}%')\n"
      ],
      "metadata": {
        "colab": {
          "base_uri": "https://localhost:8080/"
        },
        "id": "c4TbEnuqA0kr",
        "outputId": "183c662d-aeb8-4526-dc4a-51ae816ef146"
      },
      "execution_count": null,
      "outputs": [
        {
          "output_type": "stream",
          "name": "stderr",
          "text": [
            "/usr/local/lib/python3.10/dist-packages/torch_geometric/deprecation.py:26: UserWarning: 'data.DataLoader' is deprecated, use 'loader.DataLoader' instead\n",
            "  warnings.warn(out)\n"
          ]
        },
        {
          "output_type": "stream",
          "name": "stdout",
          "text": [
            "Epoch [1/40], Training Loss: 0.0564, Training Accuracy: 98.11%\n",
            "Epoch [2/40], Training Loss: 0.0461, Training Accuracy: 98.56%\n",
            "Epoch [3/40], Training Loss: 0.0411, Training Accuracy: 98.72%\n",
            "Epoch [4/40], Training Loss: 0.0373, Training Accuracy: 98.83%\n",
            "Epoch [5/40], Training Loss: 0.0357, Training Accuracy: 98.87%\n",
            "Epoch [6/40], Training Loss: 0.0345, Training Accuracy: 98.91%\n",
            "Epoch [7/40], Training Loss: 0.0338, Training Accuracy: 98.93%\n",
            "Epoch [8/40], Training Loss: 0.0330, Training Accuracy: 98.93%\n",
            "Epoch [9/40], Training Loss: 0.0328, Training Accuracy: 98.97%\n",
            "Epoch [10/40], Training Loss: 0.0325, Training Accuracy: 98.98%\n",
            "Epoch [11/40], Training Loss: 0.0320, Training Accuracy: 98.99%\n",
            "Epoch [12/40], Training Loss: 0.0320, Training Accuracy: 99.01%\n",
            "Epoch [13/40], Training Loss: 0.0319, Training Accuracy: 99.02%\n",
            "Epoch [14/40], Training Loss: 0.0317, Training Accuracy: 99.02%\n",
            "Epoch [15/40], Training Loss: 0.0317, Training Accuracy: 99.00%\n",
            "Epoch [16/40], Training Loss: 0.0313, Training Accuracy: 99.04%\n",
            "Epoch [17/40], Training Loss: 0.0313, Training Accuracy: 99.03%\n",
            "Epoch [18/40], Training Loss: 0.0311, Training Accuracy: 99.02%\n",
            "Epoch [19/40], Training Loss: 0.0312, Training Accuracy: 99.02%\n",
            "Epoch [20/40], Training Loss: 0.0309, Training Accuracy: 99.03%\n",
            "Epoch [21/40], Training Loss: 0.0309, Training Accuracy: 99.06%\n",
            "Epoch [22/40], Training Loss: 0.0308, Training Accuracy: 99.05%\n",
            "Epoch [23/40], Training Loss: 0.0307, Training Accuracy: 99.06%\n",
            "Epoch [24/40], Training Loss: 0.0309, Training Accuracy: 99.04%\n",
            "Epoch [25/40], Training Loss: 0.0306, Training Accuracy: 99.04%\n",
            "Epoch [26/40], Training Loss: 0.0303, Training Accuracy: 99.06%\n",
            "Epoch [27/40], Training Loss: 0.0300, Training Accuracy: 99.09%\n",
            "Epoch [28/40], Training Loss: 0.0301, Training Accuracy: 99.07%\n",
            "Epoch [29/40], Training Loss: 0.0303, Training Accuracy: 99.07%\n",
            "Epoch [30/40], Training Loss: 0.0300, Training Accuracy: 99.09%\n",
            "Epoch [31/40], Training Loss: 0.0302, Training Accuracy: 99.10%\n",
            "Epoch [32/40], Training Loss: 0.0302, Training Accuracy: 99.05%\n",
            "Epoch [33/40], Training Loss: 0.0300, Training Accuracy: 99.08%\n",
            "Epoch [34/40], Training Loss: 0.0298, Training Accuracy: 99.10%\n",
            "Epoch [35/40], Training Loss: 0.0296, Training Accuracy: 99.08%\n",
            "Epoch [36/40], Training Loss: 0.0298, Training Accuracy: 99.08%\n",
            "Epoch [37/40], Training Loss: 0.0298, Training Accuracy: 99.07%\n",
            "Epoch [38/40], Training Loss: 0.0298, Training Accuracy: 99.06%\n",
            "Epoch [39/40], Training Loss: 0.0296, Training Accuracy: 99.11%\n",
            "Epoch [40/40], Training Loss: 0.0295, Training Accuracy: 99.09%\n"
          ]
        }
      ]
    },
    {
      "cell_type": "code",
      "source": [
        "torch.save(model.state_dict(),\"/content/drive/MyDrive/Model/Trained_Lrelu_2_8_4_2_1_HVG\")"
      ],
      "metadata": {
        "id": "_24nYVk4Bq7q"
      },
      "execution_count": null,
      "outputs": []
    },
    {
      "cell_type": "code",
      "source": [
        "import matplotlib.pyplot as plt\n",
        "# Create figure and subplots\n",
        "fig, axs = plt.subplots(2)\n",
        "\n",
        "# Plot Loss\n",
        "axs[0].plot(T_loss, label='Training loss')\n",
        "#axs[0].plot(V_loss, label='Validation loss')\n",
        "#axs[0].set_title(f'Plot for layers (2,4,1 nodes)')   #####Change Change Change\n",
        "axs[0].legend()\n",
        "\n",
        "# Plot Accuracy\n",
        "axs[1].plot(T_accuracy, label='Training accuracy')\n",
        "#axs[1].plot(V_accuracy, label='Validation accuracy')\n",
        "axs[1].legend()\n",
        "\n",
        "# Adjust layout\n",
        "plt.tight_layout()\n",
        "\n",
        "# Save figure\n",
        "plt.savefig('/content/drive/MyDrive/Model/FullyTrained_relu_2_8_4_2_1_HVG.png',dpi=1000)"
      ],
      "metadata": {
        "colab": {
          "base_uri": "https://localhost:8080/",
          "height": 487
        },
        "id": "0Xo9UhBZB0EB",
        "outputId": "5db91c93-8116-464b-ca58-efc1004270e1"
      },
      "execution_count": null,
      "outputs": [
        {
          "output_type": "display_data",
          "data": {
            "text/plain": [
              "<Figure size 640x480 with 2 Axes>"
            ],
            "image/png": "[encoded data removed]"
          },
          "metadata": {}
        }
      ]
    },
    {
      "cell_type": "code",
      "source": [
        "with open('/content/drive/MyDrive/Model/TrainingLoss_2_8_4_2_1_HVG001', 'wb') as f: #Saving Dataset\n",
        "    pickle.dump(T_loss, f)\n",
        "with open('/content/drive/MyDrive/Model/TrainingAccuracy_2_8_4_2_1_HVG001', 'wb') as f: #Saving Dataset\n",
        "    pickle.dump(T_accuracy, f)"
      ],
      "metadata": {
        "id": "oMh1wR0JCPeA"
      },
      "execution_count": null,
      "outputs": []
    },
    {
      "cell_type": "markdown",
      "source": [
        "# **Testing Unseen Data**"
      ],
      "metadata": {
        "id": "d99v1wlZSuXY"
      }
    },
    {
      "cell_type": "code",
      "source": [
        "from sklearn.metrics import confusion_matrix\n",
        "\n",
        "def evaluate_model(model, loader,th):\n",
        "    model.eval()\n",
        "    y_true = []\n",
        "    y_pred = []\n",
        "\n",
        "    for data in loader:\n",
        "        with torch.no_grad():\n",
        "            out = model(data.x, data.edge_index, data.batch)\n",
        "            y_true.extend(data.y.tolist())\n",
        "\n",
        "            #y_pred.extend((out > 0.5).squeeze().tolist())\n",
        "            #y_pred.extend(out.round())\n",
        "\n",
        "\n",
        "            # Convert probabilities to binary predictions\n",
        "            y_pred.extend((out > th).to(torch.int).tolist())\n",
        "\n",
        "    # print(\"yTrue: \", y_true)\n",
        "    # print(\"YPred: \", y_pred)\n",
        "    # Calculate confusion matrix\n",
        "    conf_matrix = confusion_matrix(y_true, y_pred)\n",
        "    TP = conf_matrix[1, 1]\n",
        "    TN = conf_matrix[0, 0]\n",
        "    FP = conf_matrix[0, 1]\n",
        "    FN = conf_matrix[1, 0]\n",
        "\n",
        "    # Calculate accuracy\n",
        "    accuracy = (TP + TN) / (TP + TN + FP + FN)\n",
        "\n",
        "    # Calculate sensitivity\n",
        "    sensitivity = TP / (TP + FN)\n",
        "\n",
        "    # Calculate specificity\n",
        "    specificity = TN / (TN + FP)\n",
        "\n",
        "    # Calculate F1_score\n",
        "    F1_score = TP/ (TP + (FP + FN)/2)\n",
        "\n",
        "\n",
        "    return {\n",
        "        \"confusion_matrix\": conf_matrix,\n",
        "        \"accuracy\": accuracy,\n",
        "        \"sensitivity\": sensitivity,\n",
        "        \"specificity\": specificity,\n",
        "        \"F1_score\": F1_score\n",
        "    }\n",
        "\n",
        "# # Example usage:\n",
        "# results = evaluate_model(model, DataLoader(test_data, batch_size=batch_size))\n",
        "# print(\"Confusion Matrix:\")\n",
        "# print(results[\"confusion_matrix\"])\n",
        "# print(\"Accuracy:\", results[\"accuracy\"])\n",
        "# print(\"Sensitivity:\", results[\"sensitivity\"])\n",
        "# print(\"Specificity:\", results[\"specificity\"])"
      ],
      "metadata": {
        "id": "B64ZgAT-S0Kw"
      },
      "execution_count": null,
      "outputs": []
    },
    {
      "cell_type": "markdown",
      "source": [
        "PTT Data Test on NERHVGCN"
      ],
      "metadata": {
        "id": "M68pQGDMYufd"
      }
    },
    {
      "cell_type": "code",
      "source": [
        "import torch\n",
        "import torch.nn.functional as F\n",
        "from torch_geometric.data import Data, DataLoader\n",
        "import pickle\n",
        "\n",
        "model=GCNClassifier(in_channels=2, hidden_channels=8, out_channels=1)\n",
        "model.load_state_dict(torch.load(\"/content/drive/MyDrive/Model/Trained_Lrelu_2_8_4_2_1_NERHVG\"))\n",
        "\n",
        "# Load test data\n",
        "with open('/content/drive/MyDrive/Test data/PTT/NERHVG_PTT.pkl', 'rb') as f:\n",
        "    test_data = pickle.load(f)\n",
        "batch_size=8\n",
        "test_loader = DataLoader(test_data, batch_size=batch_size, shuffle=True)\n",
        "evaluate_model(model, test_loader,0.72)"
      ],
      "metadata": {
        "colab": {
          "base_uri": "https://localhost:8080/"
        },
        "id": "MHUXZSYWRvpg",
        "outputId": "88925bb7-7dd1-485d-dcdd-b1136f4ce1cf"
      },
      "execution_count": null,
      "outputs": [
        {
          "output_type": "stream",
          "name": "stderr",
          "text": [
            "/usr/local/lib/python3.10/dist-packages/torch_geometric/deprecation.py:26: UserWarning: 'data.DataLoader' is deprecated, use 'loader.DataLoader' instead\n",
            "  warnings.warn(out)\n"
          ]
        },
        {
          "output_type": "execute_result",
          "data": {
            "text/plain": [
              "{'confusion_matrix': array([[3334,    0],\n",
              "        [   0, 2755]]),\n",
              " 'accuracy': 1.0,\n",
              " 'sensitivity': 1.0,\n",
              " 'specificity': 1.0,\n",
              " 'F1_score': 1.0}"
            ]
          },
          "metadata": {},
          "execution_count": 33
        }
      ]
    },
    {
      "cell_type": "markdown",
      "source": [
        "PTT Data Test on HVGCN"
      ],
      "metadata": {
        "id": "Io9xCYJvZXoi"
      }
    },
    {
      "cell_type": "code",
      "source": [
        "import torch\n",
        "import torch.nn.functional as F\n",
        "from torch_geometric.data import Data, DataLoader\n",
        "import pickle\n",
        "\n",
        "model=GCNClassifier(in_channels=2, hidden_channels=8, out_channels=1)\n",
        "model.load_state_dict(torch.load(\"/content/drive/MyDrive/Model/Trained_Lrelu_2_8_4_2_1_HVG\"))\n",
        "\n",
        "# Load test data\n",
        "with open('/content/drive/MyDrive/Test data/PTT/HVG_PTT.pkl', 'rb') as f:\n",
        "    test_data = pickle.load(f)\n",
        "batch_size=8\n",
        "test_loader = DataLoader(test_data, batch_size=batch_size, shuffle=True)\n",
        "evaluate_model(model, test_loader,0.8)"
      ],
      "metadata": {
        "colab": {
          "base_uri": "https://localhost:8080/"
        },
        "id": "ozUirSaFoBF8",
        "outputId": "f85ebae8-00a2-489f-89b8-5f70f1614a05"
      },
      "execution_count": null,
      "outputs": [
        {
          "output_type": "stream",
          "name": "stderr",
          "text": [
            "/usr/local/lib/python3.10/dist-packages/torch_geometric/deprecation.py:26: UserWarning: 'data.DataLoader' is deprecated, use 'loader.DataLoader' instead\n",
            "  warnings.warn(out)\n"
          ]
        },
        {
          "output_type": "execute_result",
          "data": {
            "text/plain": [
              "{'confusion_matrix': array([[3334,    0],\n",
              "        [   0, 2755]]),\n",
              " 'accuracy': 1.0,\n",
              " 'sensitivity': 1.0,\n",
              " 'specificity': 1.0,\n",
              " 'F1_score': 1.0}"
            ]
          },
          "metadata": {},
          "execution_count": 66
        }
      ]
    },
    {
      "cell_type": "markdown",
      "source": [
        "**Queensland Data Test on NERHVGCN**"
      ],
      "metadata": {
        "id": "4mRZBkobTXzc"
      }
    },
    {
      "cell_type": "code",
      "source": [
        "import torch\n",
        "import torch.nn.functional as F\n",
        "from torch_geometric.data import Data, DataLoader\n",
        "import pickle\n",
        "\n",
        "model=GCNClassifier(in_channels=2, hidden_channels=8, out_channels=1)\n",
        "model.load_state_dict(torch.load(\"/content/drive/MyDrive/Model/Trained_Lrelu_2_8_4_2_1_NERHVG\"))\n",
        "\n",
        "# Load test data\n",
        "with open('/content/drive/MyDrive/Test data/Queensland/NERHVG_Queens.pkl', 'rb') as f:\n",
        "    test_data = pickle.load(f)\n",
        "batch_size=8\n",
        "test_loader = DataLoader(test_data, batch_size=batch_size, shuffle=True)\n",
        "evaluate_model(model, test_loader,0.72)"
      ],
      "metadata": {
        "colab": {
          "base_uri": "https://localhost:8080/"
        },
        "id": "EM69W-WSrMzS",
        "outputId": "308fdc20-3105-46ba-fdf7-5dfcc3418bb0"
      },
      "execution_count": null,
      "outputs": [
        {
          "output_type": "stream",
          "name": "stderr",
          "text": [
            "/usr/local/lib/python3.10/dist-packages/torch_geometric/deprecation.py:26: UserWarning: 'data.DataLoader' is deprecated, use 'loader.DataLoader' instead\n",
            "  warnings.warn(out)\n"
          ]
        },
        {
          "output_type": "execute_result",
          "data": {
            "text/plain": [
              "{'confusion_matrix': array([[4348,   84],\n",
              "        [   7, 1882]]),\n",
              " 'accuracy': 0.9856035437430787,\n",
              " 'sensitivity': 0.9962943356273161,\n",
              " 'specificity': 0.9810469314079422,\n",
              " 'F1_score': 0.9763942931258106}"
            ]
          },
          "metadata": {},
          "execution_count": 32
        }
      ]
    },
    {
      "cell_type": "markdown",
      "source": [
        "**Queensland Data Test on HVGCN**"
      ],
      "metadata": {
        "id": "LiPh-d5WDJiY"
      }
    },
    {
      "cell_type": "code",
      "source": [
        "import torch\n",
        "import torch.nn.functional as F\n",
        "from torch_geometric.data import Data, DataLoader\n",
        "import pickle\n",
        "\n",
        "model=GCNClassifier(in_channels=2, hidden_channels=8, out_channels=1)\n",
        "model.load_state_dict(torch.load(\"/content/drive/MyDrive/Model/Trained_Lrelu_2_8_4_2_1_HVG\"))\n",
        "\n",
        "# Load test data\n",
        "with open('/content/drive/MyDrive/Test data/Queensland/HVG_Queens.pkl', 'rb') as f:\n",
        "    test_data = pickle.load(f)\n",
        "batch_size=8\n",
        "test_loader = DataLoader(test_data, batch_size=batch_size, shuffle=True)\n",
        "evaluate_model(model, test_loader,0.8)"
      ],
      "metadata": {
        "colab": {
          "base_uri": "https://localhost:8080/"
        },
        "id": "VYUrry-Srrjw",
        "outputId": "8393728a-cbbb-448a-ea9e-684b09e57fd5"
      },
      "execution_count": null,
      "outputs": [
        {
          "output_type": "stream",
          "name": "stderr",
          "text": [
            "/usr/local/lib/python3.10/dist-packages/torch_geometric/deprecation.py:26: UserWarning: 'data.DataLoader' is deprecated, use 'loader.DataLoader' instead\n",
            "  warnings.warn(out)\n"
          ]
        },
        {
          "output_type": "execute_result",
          "data": {
            "text/plain": [
              "{'confusion_matrix': array([[4432,    0],\n",
              "        [   0, 1889]]),\n",
              " 'accuracy': 1.0,\n",
              " 'sensitivity': 1.0,\n",
              " 'specificity': 1.0,\n",
              " 'F1_score': 1.0}"
            ]
          },
          "metadata": {},
          "execution_count": 67
        }
      ]
    },
    {
      "cell_type": "markdown",
      "source": [
        "**UCI Data Test on NERHVGCN**"
      ],
      "metadata": {
        "id": "HOTmnWA_YgMx"
      }
    },
    {
      "cell_type": "code",
      "source": [
        "import torch\n",
        "import torch.nn.functional as F\n",
        "from torch_geometric.data import Data, DataLoader\n",
        "import pickle\n",
        "\n",
        "model=GCNClassifier(in_channels=2, hidden_channels=8, out_channels=1)\n",
        "model.load_state_dict(torch.load(\"/content/drive/MyDrive/Model/Trained_Lrelu_2_8_4_2_1_NERHVG\"))\n",
        "\n",
        "# Load test data\n",
        "with open('/content/drive/MyDrive/Test data/UCI/NERHVG_UCI.pkl', 'rb') as f:\n",
        "    test_data = pickle.load(f)\n",
        "batch_size=8\n",
        "test_loader = DataLoader(test_data, batch_size=batch_size, shuffle=True)\n",
        "evaluate_model(model, test_loader,0.72)"
      ],
      "metadata": {
        "colab": {
          "base_uri": "https://localhost:8080/"
        },
        "id": "S0QuW6QssJFh",
        "outputId": "7d43adc9-3cf2-4e3f-a822-a2736da78fd1"
      },
      "execution_count": null,
      "outputs": [
        {
          "output_type": "stream",
          "name": "stderr",
          "text": [
            "/usr/local/lib/python3.10/dist-packages/torch_geometric/deprecation.py:26: UserWarning: 'data.DataLoader' is deprecated, use 'loader.DataLoader' instead\n",
            "  warnings.warn(out)\n"
          ]
        },
        {
          "output_type": "execute_result",
          "data": {
            "text/plain": [
              "{'confusion_matrix': array([[7740,  259],\n",
              "        [ 330, 5297]]),\n",
              " 'accuracy': 0.9567738147658887,\n",
              " 'sensitivity': 0.9413541851786031,\n",
              " 'specificity': 0.9676209526190774,\n",
              " 'F1_score': 0.9473307699186265}"
            ]
          },
          "metadata": {},
          "execution_count": 31
        }
      ]
    },
    {
      "cell_type": "markdown",
      "source": [
        "**UCI Data Test on HVGCN**"
      ],
      "metadata": {
        "id": "rfL94zk_EAVt"
      }
    },
    {
      "cell_type": "code",
      "source": [
        "import torch\n",
        "import torch.nn.functional as F\n",
        "from torch_geometric.data import Data, DataLoader\n",
        "import pickle\n",
        "\n",
        "model=GCNClassifier(in_channels=2, hidden_channels=8, out_channels=1)\n",
        "model.load_state_dict(torch.load(\"/content/drive/MyDrive/Model/Trained_Lrelu_2_8_4_2_1_HVG\"))\n",
        "\n",
        "# Load test data\n",
        "with open('/content/drive/MyDrive/Test data/UCI/HVG_UCI.pkl', 'rb') as f:\n",
        "    test_data = pickle.load(f)\n",
        "batch_size=8\n",
        "test_loader = DataLoader(test_data, batch_size=batch_size, shuffle=True)\n",
        "evaluate_model(model, test_loader,0.8)"
      ],
      "metadata": {
        "colab": {
          "base_uri": "https://localhost:8080/"
        },
        "id": "u4StvX1_suI3",
        "outputId": "c9665ed6-c391-43f9-f82f-560450fbb117"
      },
      "execution_count": null,
      "outputs": [
        {
          "output_type": "stream",
          "name": "stderr",
          "text": [
            "/usr/local/lib/python3.10/dist-packages/torch_geometric/deprecation.py:26: UserWarning: 'data.DataLoader' is deprecated, use 'loader.DataLoader' instead\n",
            "  warnings.warn(out)\n"
          ]
        },
        {
          "output_type": "execute_result",
          "data": {
            "text/plain": [
              "{'confusion_matrix': array([[7031,  968],\n",
              "        [  34, 5593]]),\n",
              " 'accuracy': 0.9264641127256715,\n",
              " 'sensitivity': 0.9939577039274925,\n",
              " 'specificity': 0.8789848731091386,\n",
              " 'F1_score': 0.9177879881851001}"
            ]
          },
          "metadata": {},
          "execution_count": 68
        }
      ]
    },
    {
      "cell_type": "markdown",
      "source": [
        "**Pulse Data Test NERHVGCN**"
      ],
      "metadata": {
        "id": "ukrmC0AwZ6N5"
      }
    },
    {
      "cell_type": "code",
      "source": [
        "import torch\n",
        "import torch.nn.functional as F\n",
        "from torch_geometric.data import Data, DataLoader\n",
        "import pickle\n",
        "\n",
        "model=GCNClassifier(in_channels=2, hidden_channels=8, out_channels=1)\n",
        "model.load_state_dict(torch.load(\"/content/drive/MyDrive/Model/Trained_Lrelu_2_8_4_2_1_NERHVG\"))\n",
        "\n",
        "# Load test data\n",
        "with open('/content/drive/MyDrive/Test data/Pulse/NERHVG_Pulse.pkl', 'rb') as f:\n",
        "    test_data = pickle.load(f)\n",
        "batch_size=8\n",
        "test_loader = DataLoader(test_data, batch_size=batch_size, shuffle=True)\n",
        "evaluate_model(model, test_loader,0.72)"
      ],
      "metadata": {
        "colab": {
          "base_uri": "https://localhost:8080/"
        },
        "id": "rWniZ-3us3PR",
        "outputId": "0712a389-73f3-46c1-f246-6781f4e66ac1"
      },
      "execution_count": null,
      "outputs": [
        {
          "output_type": "stream",
          "name": "stderr",
          "text": [
            "/usr/local/lib/python3.10/dist-packages/torch_geometric/deprecation.py:26: UserWarning: 'data.DataLoader' is deprecated, use 'loader.DataLoader' instead\n",
            "  warnings.warn(out)\n"
          ]
        },
        {
          "output_type": "execute_result",
          "data": {
            "text/plain": [
              "{'confusion_matrix': array([[8000,    1],\n",
              "        [ 112, 1808]]),\n",
              " 'accuracy': 0.9886100191512952,\n",
              " 'sensitivity': 0.9416666666666667,\n",
              " 'specificity': 0.9998750156230471,\n",
              " 'F1_score': 0.9696969696969697}"
            ]
          },
          "metadata": {},
          "execution_count": 30
        }
      ]
    },
    {
      "cell_type": "markdown",
      "source": [
        "**Pulse Data Test on HVGCN**"
      ],
      "metadata": {
        "id": "JaK-9chEEfbA"
      }
    },
    {
      "cell_type": "code",
      "source": [
        "import torch\n",
        "import torch.nn.functional as F\n",
        "from torch_geometric.data import Data, DataLoader\n",
        "import pickle\n",
        "\n",
        "model=GCNClassifier(in_channels=2, hidden_channels=8, out_channels=1)\n",
        "model.load_state_dict(torch.load(\"/content/drive/MyDrive/Model/Trained_Lrelu_2_8_4_2_1_HVG\"))\n",
        "\n",
        "# Load test data\n",
        "with open('/content/drive/MyDrive/Test data/Pulse/HVG_Pulse.pkl', 'rb') as f:\n",
        "    test_data = pickle.load(f)\n",
        "batch_size=8\n",
        "test_loader = DataLoader(test_data, batch_size=batch_size, shuffle=True)\n",
        "evaluate_model(model, test_loader,0.8)"
      ],
      "metadata": {
        "colab": {
          "base_uri": "https://localhost:8080/"
        },
        "id": "Uzof2kIXs9yV",
        "outputId": "bbe54f41-6f33-4b6b-96b9-21715d127ea7"
      },
      "execution_count": null,
      "outputs": [
        {
          "output_type": "stream",
          "name": "stderr",
          "text": [
            "/usr/local/lib/python3.10/dist-packages/torch_geometric/deprecation.py:26: UserWarning: 'data.DataLoader' is deprecated, use 'loader.DataLoader' instead\n",
            "  warnings.warn(out)\n"
          ]
        },
        {
          "output_type": "execute_result",
          "data": {
            "text/plain": [
              "{'confusion_matrix': array([[8000,    1],\n",
              "        [   1, 1919]]),\n",
              " 'accuracy': 0.999798407418607,\n",
              " 'sensitivity': 0.9994791666666667,\n",
              " 'specificity': 0.9998750156230471,\n",
              " 'F1_score': 0.9994791666666667}"
            ]
          },
          "metadata": {},
          "execution_count": 69
        }
      ]
    },
    {
      "cell_type": "markdown",
      "source": [
        "**Vital Data Test on NERHVGCN**"
      ],
      "metadata": {
        "id": "LMAzdz0lam18"
      }
    },
    {
      "cell_type": "code",
      "source": [
        "import torch\n",
        "import torch.nn.functional as F\n",
        "from torch_geometric.data import Data, DataLoader\n",
        "import pickle\n",
        "\n",
        "model=GCNClassifier(in_channels=2, hidden_channels=8, out_channels=1)\n",
        "model.load_state_dict(torch.load(\"/content/drive/MyDrive/Model/Trained_Lrelu_2_8_4_2_1_NERHVG\"))\n",
        "\n",
        "# Load test data\n",
        "with open('/content/drive/MyDrive/Test data/Vital/NERHVG_Vital.pkl', 'rb') as f:\n",
        "    test_data = pickle.load(f)\n",
        "batch_size=8\n",
        "test_loader = DataLoader(test_data, batch_size=batch_size, shuffle=True)\n",
        "evaluate_model(model, test_loader,0.72)"
      ],
      "metadata": {
        "colab": {
          "base_uri": "https://localhost:8080/"
        },
        "id": "ehuWRbXBtDGX",
        "outputId": "a12a314b-4e52-4314-c87e-c4a85057149d"
      },
      "execution_count": null,
      "outputs": [
        {
          "output_type": "stream",
          "name": "stderr",
          "text": [
            "/usr/local/lib/python3.10/dist-packages/torch_geometric/deprecation.py:26: UserWarning: 'data.DataLoader' is deprecated, use 'loader.DataLoader' instead\n",
            "  warnings.warn(out)\n"
          ]
        },
        {
          "output_type": "execute_result",
          "data": {
            "text/plain": [
              "{'confusion_matrix': array([[6859,   79],\n",
              "        [  57, 1801]]),\n",
              " 'accuracy': 0.9845384265575261,\n",
              " 'sensitivity': 0.9693218514531755,\n",
              " 'specificity': 0.9886134332660709,\n",
              " 'F1_score': 0.9636169074371321}"
            ]
          },
          "metadata": {},
          "execution_count": 29
        }
      ]
    },
    {
      "cell_type": "markdown",
      "source": [
        "**Vital Data Test on HVGCN**"
      ],
      "metadata": {
        "id": "1mykH0G7Ey4-"
      }
    },
    {
      "cell_type": "code",
      "source": [
        "import torch\n",
        "import torch.nn.functional as F\n",
        "from torch_geometric.data import Data, DataLoader\n",
        "import pickle\n",
        "\n",
        "model=GCNClassifier(in_channels=2, hidden_channels=8, out_channels=1)\n",
        "model.load_state_dict(torch.load(\"/content/drive/MyDrive/Model/Trained_Lrelu_2_8_4_2_1_HVG\"))\n",
        "\n",
        "# Load test data\n",
        "with open('/content/drive/MyDrive/Test data/Vital/HVG_Vital.pkl', 'rb') as f:\n",
        "    test_data = pickle.load(f)\n",
        "batch_size=8\n",
        "test_loader = DataLoader(test_data, batch_size=batch_size, shuffle=True)\n",
        "evaluate_model(model, test_loader,0.8)"
      ],
      "metadata": {
        "colab": {
          "base_uri": "https://localhost:8080/"
        },
        "id": "-yeuRNvUtHPS",
        "outputId": "a143deb6-d804-45e6-bbb0-b385c0c37cb3"
      },
      "execution_count": null,
      "outputs": [
        {
          "output_type": "stream",
          "name": "stderr",
          "text": [
            "/usr/local/lib/python3.10/dist-packages/torch_geometric/deprecation.py:26: UserWarning: 'data.DataLoader' is deprecated, use 'loader.DataLoader' instead\n",
            "  warnings.warn(out)\n"
          ]
        },
        {
          "output_type": "execute_result",
          "data": {
            "text/plain": [
              "{'confusion_matrix': array([[6778,  160],\n",
              "        [   4, 1854]]),\n",
              " 'accuracy': 0.9813551614370168,\n",
              " 'sensitivity': 0.9978471474703983,\n",
              " 'specificity': 0.9769385990198904,\n",
              " 'F1_score': 0.9576446280991735}"
            ]
          },
          "metadata": {},
          "execution_count": 70
        }
      ]
    },
    {
      "cell_type": "markdown",
      "source": [
        "**Overall test on NERHVGCN_2_8_4_2_1** Except PTT"
      ],
      "metadata": {
        "id": "BMvYmjfVcQjP"
      }
    },
    {
      "cell_type": "code",
      "source": [
        "import time\n",
        "import torch\n",
        "import torch.nn.functional as F\n",
        "from torch_geometric.data import Data, DataLoader\n",
        "import pickle\n",
        "\n",
        "with open('/content/drive/MyDrive/Test data/Vital/NERHVG_Vital.pkl', 'rb') as f:\n",
        "    test_data1 = pickle.load(f)\n",
        "with open('/content/drive/MyDrive/Test data/Pulse/NERHVG_Pulse.pkl', 'rb') as f:\n",
        "    test_data2 = pickle.load(f)\n",
        "with open('/content/drive/MyDrive/Test data/UCI/NERHVG_UCI.pkl', 'rb') as f:\n",
        "    test_data3 = pickle.load(f)\n",
        "with open('/content/drive/MyDrive/Test data/Queensland/NERHVG_Queens.pkl', 'rb') as f:\n",
        "    test_data4 = pickle.load(f)\n",
        "\n",
        "\n",
        "batch_size=8\n",
        "test_data=test_data1+test_data2+test_data3+test_data4\n",
        "test_loader = DataLoader(test_data, batch_size=batch_size, shuffle=True)\n",
        "\n",
        "t=time.time()\n",
        "model=GCNClassifier(in_channels=2, hidden_channels=8, out_channels=1)\n",
        "model.load_state_dict(torch.load(\"/content/drive/MyDrive/Model/Trained_Lrelu_2_8_4_2_1_NERHVG\"))\n",
        "print(evaluate_model(model, test_loader,0.72))\n",
        "t1=time.time()\n",
        "T= (t1-t)/len(test_data)\n",
        "print('Average time:', T*1000,'ms')"
      ],
      "metadata": {
        "colab": {
          "base_uri": "https://localhost:8080/"
        },
        "id": "dcGXzEdQfVyv",
        "outputId": "8a0e1f67-6d3a-4f95-cdf2-c6b3e6a3b9bd"
      },
      "execution_count": null,
      "outputs": [
        {
          "output_type": "stream",
          "name": "stderr",
          "text": [
            "/usr/local/lib/python3.10/dist-packages/torch_geometric/deprecation.py:26: UserWarning: 'data.DataLoader' is deprecated, use 'loader.DataLoader' instead\n",
            "  warnings.warn(out)\n"
          ]
        },
        {
          "output_type": "stream",
          "name": "stdout",
          "text": [
            "{'confusion_matrix': array([[26947,   423],\n",
            "       [  506, 10788]]), 'accuracy': 0.9759724808607491, 'sensitivity': 0.9551974499734373, 'specificity': 0.9845451223967848, 'F1_score': 0.9587202843812486}\n",
            "Average time: 1.9655479127862994 ms\n"
          ]
        }
      ]
    },
    {
      "cell_type": "markdown",
      "source": [
        "**Overall Test on HVGCN** Except PTT"
      ],
      "metadata": {
        "id": "ZxSiKI0rAFhV"
      }
    },
    {
      "cell_type": "code",
      "source": [
        "import time\n",
        "import torch\n",
        "import torch.nn.functional as F\n",
        "from torch_geometric.data import Data, DataLoader\n",
        "import pickle\n",
        "\n",
        "with open('/content/drive/MyDrive/Test data/Vital/HVG_Vital.pkl', 'rb') as f:\n",
        "    test_data1 = pickle.load(f)\n",
        "with open('/content/drive/MyDrive/Test data/Pulse/HVG_Pulse.pkl', 'rb') as f:\n",
        "    test_data2 = pickle.load(f)\n",
        "with open('/content/drive/MyDrive/Test data/UCI/HVG_UCI.pkl', 'rb') as f:\n",
        "    test_data3 = pickle.load(f)\n",
        "with open('/content/drive/MyDrive/Test data/Queensland/HVG_Queens.pkl', 'rb') as f:\n",
        "    test_data4 = pickle.load(f)\n",
        "\n",
        "\n",
        "batch_size=8\n",
        "test_data=test_data1+test_data2+test_data3+test_data4\n",
        "test_loader = DataLoader(test_data, batch_size=batch_size, shuffle=True)\n",
        "\n",
        "t=time.time()\n",
        "model=GCNClassifier(in_channels=2, hidden_channels=8, out_channels=1)\n",
        "model.load_state_dict(torch.load(\"/content/drive/MyDrive/Model/Trained_Lrelu_2_8_4_2_1_HVG\"))\n",
        "print(evaluate_model(model, test_loader,0.8))\n",
        "t1=time.time()\n",
        "T= (t1-t)/len(test_data)\n",
        "print('Average time:', T*1000,'ms')"
      ],
      "metadata": {
        "id": "0tlBGiABFRt1",
        "colab": {
          "base_uri": "https://localhost:8080/"
        },
        "outputId": "c895023b-b566-42b7-8114-b8e56f29d6f4"
      },
      "execution_count": null,
      "outputs": [
        {
          "output_type": "stream",
          "name": "stdout",
          "text": [
            "{'confusion_matrix': array([[26241,  1129],\n",
            "       [   39, 11255]]), 'accuracy': 0.9697910200703497, 'sensitivity': 0.9965468390295732, 'specificity': 0.9587504567044209, 'F1_score': 0.9506715094180251}\n",
            "Average time: 2.174820246075883 ms\n"
          ]
        }
      ]
    },
    {
      "cell_type": "markdown",
      "source": [
        "**Overall test on NERHVGCN_2_8_4_2_1**"
      ],
      "metadata": {
        "id": "XFx8if3He6T8"
      }
    },
    {
      "cell_type": "code",
      "source": [
        "import time\n",
        "import torch                                                          #ALLLL\n",
        "import torch.nn.functional as F\n",
        "from torch_geometric.data import Data, DataLoader\n",
        "import pickle\n",
        "\n",
        "with open('/content/drive/MyDrive/Test data/Vital/NERHVG_Vital.pkl', 'rb') as f:\n",
        "    test_data1 = pickle.load(f)\n",
        "with open('/content/drive/MyDrive/Test data/Pulse/NERHVG_Pulse.pkl', 'rb') as f:\n",
        "    test_data2 = pickle.load(f)\n",
        "with open('/content/drive/MyDrive/Test data/UCI/NERHVG_UCI.pkl', 'rb') as f:\n",
        "    test_data3 = pickle.load(f)\n",
        "with open('/content/drive/MyDrive/Test data/Queensland/NERHVG_Queens.pkl', 'rb') as f:\n",
        "    test_data4 = pickle.load(f)\n",
        "with open('/content/drive/MyDrive/Test data/PTT/NERHVG_PTT.pkl', 'rb') as f:\n",
        "    test_data5 = pickle.load(f)\n",
        "\n",
        "\n",
        "batch_size=8\n",
        "test_data=test_data1+test_data2+test_data3+test_data4 + test_data5\n",
        "test_loader = DataLoader(test_data, batch_size=batch_size, shuffle=True)\n",
        "\n",
        "t=time.time()\n",
        "model=GCNClassifier(in_channels=2, hidden_channels=8, out_channels=1)\n",
        "model.load_state_dict(torch.load(\"/content/drive/MyDrive/Model/Trained_Lrelu_2_8_4_2_1_NERHVG\"))\n",
        "print(evaluate_model(model, test_loader,0.72))\n",
        "t1=time.time()\n",
        "T= (t1-t)/len(test_data)\n",
        "print('Average time:', T*1000,'ms')"
      ],
      "metadata": {
        "colab": {
          "base_uri": "https://localhost:8080/"
        },
        "id": "GBCARWWdPVdz",
        "outputId": "40a09a3b-8979-4d05-9658-dc93ad0c7641"
      },
      "execution_count": null,
      "outputs": [
        {
          "output_type": "stream",
          "name": "stderr",
          "text": [
            "/usr/local/lib/python3.10/dist-packages/torch_geometric/deprecation.py:26: UserWarning: 'data.DataLoader' is deprecated, use 'loader.DataLoader' instead\n",
            "  warnings.warn(out)\n"
          ]
        },
        {
          "output_type": "stream",
          "name": "stdout",
          "text": [
            "{'confusion_matrix': array([[30281,   423],\n",
            "       [  506, 13543]]), 'accuracy': 0.9792416150872567, 'sensitivity': 0.9639832016513631, 'specificity': 0.9862232933819698, 'F1_score': 0.9668391932893093}\n",
            "Average time: 2.183814902541395 ms\n"
          ]
        }
      ]
    },
    {
      "cell_type": "markdown",
      "source": [
        "## Threshold Testing"
      ],
      "metadata": {
        "id": "7jIk52F5QOBD"
      }
    },
    {
      "cell_type": "code",
      "source": [
        "import time\n",
        "import torch                                                          #ALLLL\n",
        "import torch.nn.functional as F\n",
        "from torch_geometric.data import Data, DataLoader\n",
        "import pickle\n",
        "import random\n",
        "with open('/content/drive/MyDrive/Test data/Vital/HVG_Vital.pkl', 'rb') as f:\n",
        "    test_data1 = pickle.load(f)\n",
        "with open('/content/drive/MyDrive/Test data/Pulse/HVG_Pulse.pkl', 'rb') as f:\n",
        "    test_data2 = pickle.load(f)\n",
        "with open('/content/drive/MyDrive/Test data/UCI/HVG_UCI.pkl', 'rb') as f:\n",
        "    test_data3 = pickle.load(f)\n",
        "with open('/content/drive/MyDrive/Test data/Queensland/HVG_Queens.pkl', 'rb') as f:\n",
        "    test_data4 = pickle.load(f)\n",
        "# with open('/content/drive/MyDrive/Test data/PTT/NERHVG_PTT.pkl', 'rb') as f:\n",
        "#     test_data5 = pickle.load(f)\n",
        "\n"
      ],
      "metadata": {
        "id": "o2frCozgQUTD"
      },
      "execution_count": null,
      "outputs": []
    },
    {
      "cell_type": "code",
      "source": [
        "batch_size=8\n",
        "test_data=test_data1+test_data2+test_data3+test_data4\n",
        "test_loader = DataLoader(test_data, batch_size=batch_size, shuffle=True)"
      ],
      "metadata": {
        "colab": {
          "base_uri": "https://localhost:8080/"
        },
        "id": "j2cEBm14S570",
        "outputId": "55a46bf5-1023-4379-dc1a-499df9e45322"
      },
      "execution_count": null,
      "outputs": [
        {
          "output_type": "stream",
          "name": "stderr",
          "text": [
            "/usr/local/lib/python3.10/dist-packages/torch_geometric/deprecation.py:26: UserWarning: 'data.DataLoader' is deprecated, use 'loader.DataLoader' instead\n",
            "  warnings.warn(out)\n"
          ]
        }
      ]
    },
    {
      "cell_type": "code",
      "source": [
        "t=time.time()\n",
        "model=GCNClassifier(in_channels=2, hidden_channels=8, out_channels=1)\n",
        "model.load_state_dict(torch.load(\"/content/drive/MyDrive/Model/Trained_Lrelu_2_8_4_2_1_HVG\"))\n",
        "print(evaluate_model(model, test_loader,0.75))\n",
        "t1=time.time()\n",
        "T= (t1-t)/len(test_data)\n",
        "print('Average time:', T*1000,'ms')"
      ],
      "metadata": {
        "colab": {
          "base_uri": "https://localhost:8080/"
        },
        "id": "j1PNqZRlSq2V",
        "outputId": "a6ae06b3-a2d1-41f1-90b8-cb93aa3a1a03"
      },
      "execution_count": null,
      "outputs": [
        {
          "output_type": "stream",
          "name": "stdout",
          "text": [
            "{'confusion_matrix': array([[26153,  1217],\n",
            "       [   22, 11272]]), 'accuracy': 0.9679546865301055, 'sensitivity': 0.9980520630423234, 'specificity': 0.9555352575812934, 'F1_score': 0.947903965017029}\n",
            "Average time: 2.0918375570631507 ms\n"
          ]
        }
      ]
    },
    {
      "cell_type": "markdown",
      "source": [
        "**Overall test on HVGCN_2_8_4_2_1**"
      ],
      "metadata": {
        "id": "X_PSJReHhhy9"
      }
    },
    {
      "cell_type": "code",
      "source": [
        "import time\n",
        "import torch                                                                     #ALLLL\n",
        "import torch.nn.functional as F\n",
        "from torch_geometric.data import Data, DataLoader\n",
        "import pickle\n",
        "\n",
        "with open('/content/drive/MyDrive/Test data/Vital/HVG_Vital.pkl', 'rb') as f:\n",
        "    test_data1 = pickle.load(f)\n",
        "with open('/content/drive/MyDrive/Test data/Pulse/HVG_Pulse.pkl', 'rb') as f:\n",
        "    test_data2 = pickle.load(f)\n",
        "with open('/content/drive/MyDrive/Test data/UCI/HVG_UCI.pkl', 'rb') as f:\n",
        "    test_data3 = pickle.load(f)\n",
        "with open('/content/drive/MyDrive/Test data/Queensland/HVG_Queens.pkl', 'rb') as f:\n",
        "    test_data4 = pickle.load(f)\n",
        "with open('/content/drive/MyDrive/Test data/PTT/HVG_PTT.pkl', 'rb') as f:\n",
        "    test_data5 = pickle.load(f)\n",
        "\n",
        "\n",
        "batch_size=8\n",
        "test_data=test_data1+test_data2+test_data3+test_data4 +test_data5\n",
        "test_loader = DataLoader(test_data, batch_size=batch_size, shuffle=True)\n",
        "\n",
        "t=time.time()\n",
        "model=GCNClassifier(in_channels=2, hidden_channels=8, out_channels=1)\n",
        "model.load_state_dict(torch.load(\"/content/drive/MyDrive/Model/Trained_Lrelu_2_8_4_2_1_HVG\"))\n",
        "print(evaluate_model(model, test_loader,0.8))\n",
        "t1=time.time()\n",
        "T= (t1-t)/len(test_data)\n",
        "print('Average time:', T*1000,'ms')"
      ],
      "metadata": {
        "colab": {
          "base_uri": "https://localhost:8080/"
        },
        "id": "Ksrg01PSwOr7",
        "outputId": "ff9b43eb-02c9-4ce8-e6a0-babbf923ccef"
      },
      "execution_count": null,
      "outputs": [
        {
          "output_type": "stream",
          "name": "stderr",
          "text": [
            "/usr/local/lib/python3.10/dist-packages/torch_geometric/deprecation.py:26: UserWarning: 'data.DataLoader' is deprecated, use 'loader.DataLoader' instead\n",
            "  warnings.warn(out)\n"
          ]
        },
        {
          "output_type": "stream",
          "name": "stdout",
          "text": [
            "{'confusion_matrix': array([[29575,  1129],\n",
            "       [   39, 14010]]), 'accuracy': 0.9739011909816102, 'sensitivity': 0.9972240017083066, 'specificity': 0.9632295466388744, 'F1_score': 0.9599835548855694}\n",
            "Average time: 1.808147245238374 ms\n"
          ]
        }
      ]
    },
    {
      "cell_type": "code",
      "source": [
        "len(test_data)"
      ],
      "metadata": {
        "id": "VdlExwoqwSoU",
        "colab": {
          "base_uri": "https://localhost:8080/"
        },
        "outputId": "240fa785-f305-4c17-a6f4-368a27a6869a"
      },
      "execution_count": null,
      "outputs": [
        {
          "output_type": "execute_result",
          "data": {
            "text/plain": [
              "44753"
            ]
          },
          "metadata": {},
          "execution_count": 22
        }
      ]
    },
    {
      "cell_type": "code",
      "source": [
        "import matplotlib.pyplot as plt\n",
        "import pickle\n",
        "with open('/content/drive/MyDrive/Model/TrainingLoss_2_8_4_2_1_NERHVG001', 'rb') as f: #Saving Dataset\n",
        "    NERHVG_Loss=pickle.load(f)\n",
        "with open('/content/drive/MyDrive/Model/TrainingLoss_2_8_4_2_1_HVG001', 'rb') as f: #Saving Dataset\n",
        "    HVG_Loss=pickle.load(f)\n",
        "with open('/content/drive/MyDrive/Model/TrainingAccuracy_2_8_4_2_1_NERHVG001', 'rb') as f: #Saving Dataset\n",
        "    NERHVG_Acc=pickle.load(f)\n",
        "with open('/content/drive/MyDrive/Model/TrainingAccuracy_2_8_4_2_1_HVG001', 'rb') as f: #Saving Dataset\n",
        "    HVG_Acc=pickle.load(f)\n",
        "\n",
        "# Assuming you have lists HVG_Acc, NERHVG_Acc, HVG_Loss, and NERHVG_Loss defined somewhere\n",
        "\n",
        "# Create subplots with 1 row and 2 columns, and adjust the figure size\n",
        "fig, axs = plt.subplots(1,2, figsize=(6, 2.8))  # Adjust the figure size as needed\n",
        "\n",
        "# Plot A and B in the first subplot\n",
        "axs[0].plot(HVG_Acc, label='HVG', color='blue')\n",
        "axs[0].plot(NERHVG_Acc, label='NERHVG', color='green')\n",
        "axs[0].set_xlabel('Number of Epochs', color='black')\n",
        "axs[0].set_ylabel('Training Accuracy', color='black')\n",
        "axs[0].legend()\n",
        "axs[0].set_ylim([96.9, 99.19])\n",
        "\n",
        "# Plot C and D in the second subplot\n",
        "axs[1].plot(HVG_Loss, label='HVG', color='blue')\n",
        "axs[1].plot(NERHVG_Loss, label='NERHVG', color='green')\n",
        "axs[1].set_xlabel('Number of Epochs', color='black')\n",
        "axs[1].set_ylabel('Training Loss', color='black')\n",
        "axs[1].legend()\n",
        "axs[1].set_ylim([0.025, 0.10])\n",
        "\n",
        "# Save the figure\n",
        "plt.tight_layout()\n",
        "plt.savefig('/content/drive/MyDrive/Model/plots.png')\n",
        "\n",
        "# Show the plots\n",
        "plt.show()\n"
      ],
      "metadata": {
        "colab": {
          "base_uri": "https://localhost:8080/",
          "height": 286
        },
        "id": "jzzwSmHqE6ij",
        "outputId": "410e2cfb-a894-437b-ad62-1d04658576c0"
      },
      "execution_count": null,
      "outputs": [
        {
          "output_type": "display_data",
          "data": {
            "text/plain": [
              "<Figure size 600x280 with 2 Axes>"
            ],
            "image/png": "[encoded data removed]"
          },
          "metadata": {}
        }
      ]
    },
    {
      "cell_type": "code",
      "source": [],
      "metadata": {
        "id": "ZhFd-d8pF8Jj"
      },
      "execution_count": null,
      "outputs": []
    }
  ],
  "metadata": {
    "colab": {
      "provenance": []
    },
    "kernelspec": {
      "display_name": "Python 3",
      "name": "python3"
    },
    "language_info": {
      "name": "python"
    }
  },
  "nbformat": 4,
  "nbformat_minor": 0
}